{
 "cells": [
  {
   "cell_type": "code",
   "execution_count": 14,
   "metadata": {
    "executionInfo": {
     "elapsed": 723,
     "status": "ok",
     "timestamp": 1612869876528,
     "user": {
      "displayName": "Gladilin Peter",
      "photoUrl": "https://lh3.googleusercontent.com/a-/AOh14GgeleMHM97hzpemsBIs8kzICj_GZJgu5JJp1wteeA=s64",
      "userId": "07086843924195418286"
     },
     "user_tz": -180
    },
    "id": "f_k1fH9aBEci"
   },
   "outputs": [],
   "source": [
    "# import the libraries\n",
    "import matplotlib.pyplot as plt\n",
    "import seaborn as sns\n",
    "import pandas as pd\n",
    "import numpy as np\n",
    "from sklearn.model_selection import train_test_split\n",
    "from sklearn.metrics import accuracy_score\n",
    "from sklearn.linear_model import LogisticRegression\n",
    "from sklearn import metrics as m\n",
    "from sklearn.metrics import roc_auc_score, roc_curve\n",
    "from sklearn.preprocessing import StandardScaler\n",
    "from sklearn.metrics import precision_recall_curve"
   ]
  },
  {
   "cell_type": "code",
   "execution_count": 15,
   "metadata": {
    "colab": {
     "base_uri": "https://localhost:8080/",
     "height": 402
    },
    "executionInfo": {
     "elapsed": 1476,
     "status": "ok",
     "timestamp": 1612869877290,
     "user": {
      "displayName": "Gladilin Peter",
      "photoUrl": "https://lh3.googleusercontent.com/a-/AOh14GgeleMHM97hzpemsBIs8kzICj_GZJgu5JJp1wteeA=s64",
      "userId": "07086843924195418286"
     },
     "user_tz": -180
    },
    "id": "AfO2W-pZMsOH",
    "outputId": "6708a81c-ca75-4c9d-88fa-789948399fd0"
   },
   "outputs": [
    {
     "data": {
      "text/html": [
       "<div>\n",
       "<style scoped>\n",
       "    .dataframe tbody tr th:only-of-type {\n",
       "        vertical-align: middle;\n",
       "    }\n",
       "\n",
       "    .dataframe tbody tr th {\n",
       "        vertical-align: top;\n",
       "    }\n",
       "\n",
       "    .dataframe thead th {\n",
       "        text-align: right;\n",
       "    }\n",
       "</style>\n",
       "<table border=\"1\" class=\"dataframe\">\n",
       "  <thead>\n",
       "    <tr style=\"text-align: right;\">\n",
       "      <th></th>\n",
       "      <th>age</th>\n",
       "      <th>job</th>\n",
       "      <th>marital</th>\n",
       "      <th>education</th>\n",
       "      <th>default</th>\n",
       "      <th>balance</th>\n",
       "      <th>housing</th>\n",
       "      <th>loan</th>\n",
       "      <th>contact</th>\n",
       "      <th>day</th>\n",
       "      <th>month</th>\n",
       "      <th>duration</th>\n",
       "      <th>campaign</th>\n",
       "      <th>pdays</th>\n",
       "      <th>previous</th>\n",
       "      <th>poutcome</th>\n",
       "      <th>deposit</th>\n",
       "    </tr>\n",
       "  </thead>\n",
       "  <tbody>\n",
       "    <tr>\n",
       "      <th>0</th>\n",
       "      <td>59</td>\n",
       "      <td>admin.</td>\n",
       "      <td>married</td>\n",
       "      <td>secondary</td>\n",
       "      <td>no</td>\n",
       "      <td>2343</td>\n",
       "      <td>yes</td>\n",
       "      <td>no</td>\n",
       "      <td>unknown</td>\n",
       "      <td>5</td>\n",
       "      <td>may</td>\n",
       "      <td>1042</td>\n",
       "      <td>1</td>\n",
       "      <td>-1</td>\n",
       "      <td>0</td>\n",
       "      <td>unknown</td>\n",
       "      <td>yes</td>\n",
       "    </tr>\n",
       "    <tr>\n",
       "      <th>1</th>\n",
       "      <td>56</td>\n",
       "      <td>admin.</td>\n",
       "      <td>married</td>\n",
       "      <td>secondary</td>\n",
       "      <td>no</td>\n",
       "      <td>45</td>\n",
       "      <td>no</td>\n",
       "      <td>no</td>\n",
       "      <td>unknown</td>\n",
       "      <td>5</td>\n",
       "      <td>may</td>\n",
       "      <td>1467</td>\n",
       "      <td>1</td>\n",
       "      <td>-1</td>\n",
       "      <td>0</td>\n",
       "      <td>unknown</td>\n",
       "      <td>yes</td>\n",
       "    </tr>\n",
       "    <tr>\n",
       "      <th>2</th>\n",
       "      <td>41</td>\n",
       "      <td>technician</td>\n",
       "      <td>married</td>\n",
       "      <td>secondary</td>\n",
       "      <td>no</td>\n",
       "      <td>1270</td>\n",
       "      <td>yes</td>\n",
       "      <td>no</td>\n",
       "      <td>unknown</td>\n",
       "      <td>5</td>\n",
       "      <td>may</td>\n",
       "      <td>1389</td>\n",
       "      <td>1</td>\n",
       "      <td>-1</td>\n",
       "      <td>0</td>\n",
       "      <td>unknown</td>\n",
       "      <td>yes</td>\n",
       "    </tr>\n",
       "    <tr>\n",
       "      <th>3</th>\n",
       "      <td>55</td>\n",
       "      <td>services</td>\n",
       "      <td>married</td>\n",
       "      <td>secondary</td>\n",
       "      <td>no</td>\n",
       "      <td>2476</td>\n",
       "      <td>yes</td>\n",
       "      <td>no</td>\n",
       "      <td>unknown</td>\n",
       "      <td>5</td>\n",
       "      <td>may</td>\n",
       "      <td>579</td>\n",
       "      <td>1</td>\n",
       "      <td>-1</td>\n",
       "      <td>0</td>\n",
       "      <td>unknown</td>\n",
       "      <td>yes</td>\n",
       "    </tr>\n",
       "    <tr>\n",
       "      <th>4</th>\n",
       "      <td>54</td>\n",
       "      <td>admin.</td>\n",
       "      <td>married</td>\n",
       "      <td>tertiary</td>\n",
       "      <td>no</td>\n",
       "      <td>184</td>\n",
       "      <td>no</td>\n",
       "      <td>no</td>\n",
       "      <td>unknown</td>\n",
       "      <td>5</td>\n",
       "      <td>may</td>\n",
       "      <td>673</td>\n",
       "      <td>2</td>\n",
       "      <td>-1</td>\n",
       "      <td>0</td>\n",
       "      <td>unknown</td>\n",
       "      <td>yes</td>\n",
       "    </tr>\n",
       "    <tr>\n",
       "      <th>...</th>\n",
       "      <td>...</td>\n",
       "      <td>...</td>\n",
       "      <td>...</td>\n",
       "      <td>...</td>\n",
       "      <td>...</td>\n",
       "      <td>...</td>\n",
       "      <td>...</td>\n",
       "      <td>...</td>\n",
       "      <td>...</td>\n",
       "      <td>...</td>\n",
       "      <td>...</td>\n",
       "      <td>...</td>\n",
       "      <td>...</td>\n",
       "      <td>...</td>\n",
       "      <td>...</td>\n",
       "      <td>...</td>\n",
       "      <td>...</td>\n",
       "    </tr>\n",
       "    <tr>\n",
       "      <th>11157</th>\n",
       "      <td>33</td>\n",
       "      <td>blue-collar</td>\n",
       "      <td>single</td>\n",
       "      <td>primary</td>\n",
       "      <td>no</td>\n",
       "      <td>1</td>\n",
       "      <td>yes</td>\n",
       "      <td>no</td>\n",
       "      <td>cellular</td>\n",
       "      <td>20</td>\n",
       "      <td>apr</td>\n",
       "      <td>257</td>\n",
       "      <td>1</td>\n",
       "      <td>-1</td>\n",
       "      <td>0</td>\n",
       "      <td>unknown</td>\n",
       "      <td>no</td>\n",
       "    </tr>\n",
       "    <tr>\n",
       "      <th>11158</th>\n",
       "      <td>39</td>\n",
       "      <td>services</td>\n",
       "      <td>married</td>\n",
       "      <td>secondary</td>\n",
       "      <td>no</td>\n",
       "      <td>733</td>\n",
       "      <td>no</td>\n",
       "      <td>no</td>\n",
       "      <td>unknown</td>\n",
       "      <td>16</td>\n",
       "      <td>jun</td>\n",
       "      <td>83</td>\n",
       "      <td>4</td>\n",
       "      <td>-1</td>\n",
       "      <td>0</td>\n",
       "      <td>unknown</td>\n",
       "      <td>no</td>\n",
       "    </tr>\n",
       "    <tr>\n",
       "      <th>11159</th>\n",
       "      <td>32</td>\n",
       "      <td>technician</td>\n",
       "      <td>single</td>\n",
       "      <td>secondary</td>\n",
       "      <td>no</td>\n",
       "      <td>29</td>\n",
       "      <td>no</td>\n",
       "      <td>no</td>\n",
       "      <td>cellular</td>\n",
       "      <td>19</td>\n",
       "      <td>aug</td>\n",
       "      <td>156</td>\n",
       "      <td>2</td>\n",
       "      <td>-1</td>\n",
       "      <td>0</td>\n",
       "      <td>unknown</td>\n",
       "      <td>no</td>\n",
       "    </tr>\n",
       "    <tr>\n",
       "      <th>11160</th>\n",
       "      <td>43</td>\n",
       "      <td>technician</td>\n",
       "      <td>married</td>\n",
       "      <td>secondary</td>\n",
       "      <td>no</td>\n",
       "      <td>0</td>\n",
       "      <td>no</td>\n",
       "      <td>yes</td>\n",
       "      <td>cellular</td>\n",
       "      <td>8</td>\n",
       "      <td>may</td>\n",
       "      <td>9</td>\n",
       "      <td>2</td>\n",
       "      <td>172</td>\n",
       "      <td>5</td>\n",
       "      <td>failure</td>\n",
       "      <td>no</td>\n",
       "    </tr>\n",
       "    <tr>\n",
       "      <th>11161</th>\n",
       "      <td>34</td>\n",
       "      <td>technician</td>\n",
       "      <td>married</td>\n",
       "      <td>secondary</td>\n",
       "      <td>no</td>\n",
       "      <td>0</td>\n",
       "      <td>no</td>\n",
       "      <td>no</td>\n",
       "      <td>cellular</td>\n",
       "      <td>9</td>\n",
       "      <td>jul</td>\n",
       "      <td>628</td>\n",
       "      <td>1</td>\n",
       "      <td>-1</td>\n",
       "      <td>0</td>\n",
       "      <td>unknown</td>\n",
       "      <td>no</td>\n",
       "    </tr>\n",
       "  </tbody>\n",
       "</table>\n",
       "<p>11162 rows × 17 columns</p>\n",
       "</div>"
      ],
      "text/plain": [
       "       age          job  marital  education default  balance housing loan  \\\n",
       "0       59       admin.  married  secondary      no     2343     yes   no   \n",
       "1       56       admin.  married  secondary      no       45      no   no   \n",
       "2       41   technician  married  secondary      no     1270     yes   no   \n",
       "3       55     services  married  secondary      no     2476     yes   no   \n",
       "4       54       admin.  married   tertiary      no      184      no   no   \n",
       "...    ...          ...      ...        ...     ...      ...     ...  ...   \n",
       "11157   33  blue-collar   single    primary      no        1     yes   no   \n",
       "11158   39     services  married  secondary      no      733      no   no   \n",
       "11159   32   technician   single  secondary      no       29      no   no   \n",
       "11160   43   technician  married  secondary      no        0      no  yes   \n",
       "11161   34   technician  married  secondary      no        0      no   no   \n",
       "\n",
       "        contact  day month  duration  campaign  pdays  previous poutcome  \\\n",
       "0       unknown    5   may      1042         1     -1         0  unknown   \n",
       "1       unknown    5   may      1467         1     -1         0  unknown   \n",
       "2       unknown    5   may      1389         1     -1         0  unknown   \n",
       "3       unknown    5   may       579         1     -1         0  unknown   \n",
       "4       unknown    5   may       673         2     -1         0  unknown   \n",
       "...         ...  ...   ...       ...       ...    ...       ...      ...   \n",
       "11157  cellular   20   apr       257         1     -1         0  unknown   \n",
       "11158   unknown   16   jun        83         4     -1         0  unknown   \n",
       "11159  cellular   19   aug       156         2     -1         0  unknown   \n",
       "11160  cellular    8   may         9         2    172         5  failure   \n",
       "11161  cellular    9   jul       628         1     -1         0  unknown   \n",
       "\n",
       "      deposit  \n",
       "0         yes  \n",
       "1         yes  \n",
       "2         yes  \n",
       "3         yes  \n",
       "4         yes  \n",
       "...       ...  \n",
       "11157      no  \n",
       "11158      no  \n",
       "11159      no  \n",
       "11160      no  \n",
       "11161      no  \n",
       "\n",
       "[11162 rows x 17 columns]"
      ]
     },
     "execution_count": 15,
     "metadata": {},
     "output_type": "execute_result"
    }
   ],
   "source": [
    "df = pd.read_csv(\"bank.csv\")\n",
    "df"
   ]
  },
  {
   "cell_type": "code",
   "execution_count": 16,
   "metadata": {
    "executionInfo": {
     "elapsed": 1474,
     "status": "ok",
     "timestamp": 1612869877293,
     "user": {
      "displayName": "Gladilin Peter",
      "photoUrl": "https://lh3.googleusercontent.com/a-/AOh14GgeleMHM97hzpemsBIs8kzICj_GZJgu5JJp1wteeA=s64",
      "userId": "07086843924195418286"
     },
     "user_tz": -180
    },
    "id": "AHM1oM4FBEcq"
   },
   "outputs": [],
   "source": [
    "# choosing target variable\n",
    "df.deposit = df.deposit.astype(str)\n",
    "df.replace({'deposit': {'yes': 1, 'no': 0}},inplace=True)\n",
    "y=df['deposit'].values\n",
    "\n",
    "# choosing numeric features\n",
    "df_log_reg = df[['age','balance','day','duration','campaign','pdays','previous']]\n",
    "\n",
    "\n"
   ]
  },
  {
   "cell_type": "code",
   "execution_count": 17,
   "metadata": {
    "executionInfo": {
     "elapsed": 1471,
     "status": "ok",
     "timestamp": 1612869877293,
     "user": {
      "displayName": "Gladilin Peter",
      "photoUrl": "https://lh3.googleusercontent.com/a-/AOh14GgeleMHM97hzpemsBIs8kzICj_GZJgu5JJp1wteeA=s64",
      "userId": "07086843924195418286"
     },
     "user_tz": -180
    },
    "id": "Fvz_yY6VBEct"
   },
   "outputs": [],
   "source": [
    "# Scaling the data\n",
    "scaler = StandardScaler()\n",
    "X=scaler.fit_transform(df_log_reg)"
   ]
  },
  {
   "cell_type": "code",
   "execution_count": 18,
   "metadata": {
    "executionInfo": {
     "elapsed": 1469,
     "status": "ok",
     "timestamp": 1612869877294,
     "user": {
      "displayName": "Gladilin Peter",
      "photoUrl": "https://lh3.googleusercontent.com/a-/AOh14GgeleMHM97hzpemsBIs8kzICj_GZJgu5JJp1wteeA=s64",
      "userId": "07086843924195418286"
     },
     "user_tz": -180
    },
    "id": "kZFXVWRjBEcw"
   },
   "outputs": [],
   "source": [
    "# Create Train and Test samples\n",
    "X_train, X_test, y_train, y_test = train_test_split(X,y,test_size=0.3, random_state=42)"
   ]
  },
  {
   "cell_type": "code",
   "execution_count": 19,
   "metadata": {
    "executionInfo": {
     "elapsed": 1467,
     "status": "ok",
     "timestamp": 1612869877294,
     "user": {
      "displayName": "Gladilin Peter",
      "photoUrl": "https://lh3.googleusercontent.com/a-/AOh14GgeleMHM97hzpemsBIs8kzICj_GZJgu5JJp1wteeA=s64",
      "userId": "07086843924195418286"
     },
     "user_tz": -180
    },
    "id": "b7jcaDVdBEcz"
   },
   "outputs": [],
   "source": [
    "# Log Regression\n",
    "cls = LogisticRegression()\n",
    "cls = cls.fit(X_train,y_train)\n",
    "# Labels prediction\n",
    "y_out = cls.predict(X_test)\n",
    "# Probabilities for the objects in the test sample\n",
    "y_out_proba = cls.predict_proba(X_test)"
   ]
  },
  {
   "cell_type": "code",
   "execution_count": 20,
   "metadata": {
    "executionInfo": {
     "elapsed": 1459,
     "status": "ok",
     "timestamp": 1612869877294,
     "user": {
      "displayName": "Gladilin Peter",
      "photoUrl": "https://lh3.googleusercontent.com/a-/AOh14GgeleMHM97hzpemsBIs8kzICj_GZJgu5JJp1wteeA=s64",
      "userId": "07086843924195418286"
     },
     "user_tz": -180
    },
    "id": "LKCPtsrSBEc3"
   },
   "outputs": [],
   "source": [
    "# Metrics for binary classification\n",
    "accuracy = m.accuracy_score(y_test,y_out)\n",
    "precision = m.precision_score(y_test,y_out)\n",
    "recall = m.recall_score(y_test,y_out)\n",
    "roc_auc = roc_auc_score(y_out,y_test)\n",
    "f1_score = m.f1_score(y_test,y_out)"
   ]
  },
  {
   "cell_type": "code",
   "execution_count": 21,
   "metadata": {
    "colab": {
     "base_uri": "https://localhost:8080/"
    },
    "executionInfo": {
     "elapsed": 1454,
     "status": "ok",
     "timestamp": 1612869877295,
     "user": {
      "displayName": "Gladilin Peter",
      "photoUrl": "https://lh3.googleusercontent.com/a-/AOh14GgeleMHM97hzpemsBIs8kzICj_GZJgu5JJp1wteeA=s64",
      "userId": "07086843924195418286"
     },
     "user_tz": -180
    },
    "id": "2oNlEhwdBEc6",
    "outputId": "71d4cf5e-3709-4508-ea52-717bb12d9a34"
   },
   "outputs": [
    {
     "name": "stdout",
     "output_type": "stream",
     "text": [
      "accuracy 0.7414153478650344\n",
      "precision 0.7671232876712328\n",
      "recall 0.6621032980709396\n",
      "roc_auc 0.74518243894265\n",
      "F1-score 0.7107548430193721\n"
     ]
    }
   ],
   "source": [
    "\n",
    "print('accuracy', accuracy )\n",
    "print('precision', precision )\n",
    "print('recall', recall )\n",
    "print('roc_auc', roc_auc )\n",
    "print('F1-score', f1_score )"
   ]
  },
  {
   "cell_type": "code",
   "execution_count": 22,
   "metadata": {
    "colab": {
     "base_uri": "https://localhost:8080/"
    },
    "executionInfo": {
     "elapsed": 1451,
     "status": "ok",
     "timestamp": 1612869877295,
     "user": {
      "displayName": "Gladilin Peter",
      "photoUrl": "https://lh3.googleusercontent.com/a-/AOh14GgeleMHM97hzpemsBIs8kzICj_GZJgu5JJp1wteeA=s64",
      "userId": "07086843924195418286"
     },
     "user_tz": -180
    },
    "id": "o6t-ZQpVBEc9",
    "outputId": "5f8be5ec-1d04-4adf-ae7e-e31f99133df5"
   },
   "outputs": [
    {
     "data": {
      "text/plain": [
       "array([[0.6776599 , 0.3223401 ],\n",
       "       [0.03501555, 0.96498445],\n",
       "       [0.21018178, 0.78981822],\n",
       "       ...,\n",
       "       [0.68993645, 0.31006355],\n",
       "       [0.64511916, 0.35488084],\n",
       "       [0.02440738, 0.97559262]])"
      ]
     },
     "execution_count": 22,
     "metadata": {},
     "output_type": "execute_result"
    }
   ],
   "source": [
    "y_out_proba"
   ]
  },
  {
   "cell_type": "code",
   "execution_count": 23,
   "metadata": {
    "colab": {
     "base_uri": "https://localhost:8080/",
     "height": 428
    },
    "executionInfo": {
     "elapsed": 2074,
     "status": "ok",
     "timestamp": 1612869877922,
     "user": {
      "displayName": "Gladilin Peter",
      "photoUrl": "https://lh3.googleusercontent.com/a-/AOh14GgeleMHM97hzpemsBIs8kzICj_GZJgu5JJp1wteeA=s64",
      "userId": "07086843924195418286"
     },
     "user_tz": -180
    },
    "id": "D-OZ3dzpBEdA",
    "outputId": "01416dac-f336-45eb-9db7-d76a897978ba"
   },
   "outputs": [
    {
     "data": {
      "text/plain": [
       "<matplotlib.legend.Legend at 0x188b11cad08>"
      ]
     },
     "execution_count": 23,
     "metadata": {},
     "output_type": "execute_result"
    },
    {
     "data": {
      "image/png": "[encoded data removed]",
      "text/plain": [
       "<Figure size 648x432 with 1 Axes>"
      ]
     },
     "metadata": {
      "needs_background": "light"
     },
     "output_type": "display_data"
    }
   ],
   "source": [
    "\n",
    "prec, rec, thresh = precision_recall_curve(y_test, y_out_proba[:,1])\n",
    "plt.figure(figsize=(9, 6))\n",
    "plt.grid()\n",
    "plt.plot(thresh, prec[:-1], label=\"Precision\")\n",
    "plt.plot(thresh, rec[:-1], label=\"Recall\")\n",
    "plt.xlabel(u\"Threshold\",fontsize = 15)\n",
    "plt.title(u'Precision-Recall curve',fontsize = 15)\n",
    "plt.legend(fontsize = 15)"
   ]
  },
  {
   "cell_type": "code",
   "execution_count": 24,
   "metadata": {
    "colab": {
     "base_uri": "https://localhost:8080/",
     "height": 428
    },
    "executionInfo": {
     "elapsed": 2070,
     "status": "ok",
     "timestamp": 1612869877922,
     "user": {
      "displayName": "Gladilin Peter",
      "photoUrl": "https://lh3.googleusercontent.com/a-/AOh14GgeleMHM97hzpemsBIs8kzICj_GZJgu5JJp1wteeA=s64",
      "userId": "07086843924195418286"
     },
     "user_tz": -180
    },
    "id": "DF1yEU9PBEdD",
    "outputId": "743d6390-1e05-4e16-e182-7d9a81be3769"
   },
   "outputs": [
    {
     "data": {
      "text/plain": [
       "<matplotlib.legend.Legend at 0x188b1225d88>"
      ]
     },
     "execution_count": 24,
     "metadata": {},
     "output_type": "execute_result"
    },
    {
     "data": {
      "image/png": "[encoded data removed]",
      "text/plain": [
       "<Figure size 648x432 with 1 Axes>"
      ]
     },
     "metadata": {
      "needs_background": "light"
     },
     "output_type": "display_data"
    }
   ],
   "source": [
    "# ROC-curve\n",
    "from sklearn.metrics import roc_curve, roc_auc_score\n",
    "fpr, tpr, thr = roc_curve(y_test, y_out_proba[:,1])\n",
    "\n",
    "plt.figure(figsize = (9,6))\n",
    "plt.plot(fpr, tpr, label=u'ROC \\n'+'ROC AUC = ' + str(round(roc_auc,2)))\n",
    "plt.grid()\n",
    "plt.xlabel(\"false positive rate\",fontsize = 15)\n",
    "plt.ylabel(\"true positive rate\",fontsize = 15)\n",
    "plt.title(u\"ROC curve\",fontsize = 15)\n",
    "plt.legend(fontsize = 15)\n"
   ]
  },
  {
   "cell_type": "code",
   "execution_count": 25,
   "metadata": {
    "colab": {
     "base_uri": "https://localhost:8080/",
     "height": 393
    },
    "executionInfo": {
     "elapsed": 2848,
     "status": "ok",
     "timestamp": 1612869878704,
     "user": {
      "displayName": "Gladilin Peter",
      "photoUrl": "https://lh3.googleusercontent.com/a-/AOh14GgeleMHM97hzpemsBIs8kzICj_GZJgu5JJp1wteeA=s64",
      "userId": "07086843924195418286"
     },
     "user_tz": -180
    },
    "id": "JXXYCTFDBEdG",
    "outputId": "59f13b31-9cf3-4f15-faac-243e96b26303"
   },
   "outputs": [
    {
     "data": {
      "image/png": "[encoded data removed]",
      "text/plain": [
       "<Figure size 648x432 with 1 Axes>"
      ]
     },
     "metadata": {
      "needs_background": "light"
     },
     "output_type": "display_data"
    }
   ],
   "source": [
    "# смотрим на распределение вероятностей\n",
    "def scatter(actual, predicted, T):\n",
    "    plt.figure(figsize = (9,6))\n",
    "    plt.scatter(actual, predicted,s=100,alpha = 0.01)\n",
    "    plt.xlabel(u\"Labels\",fontsize = 15)\n",
    "    plt.ylabel(u\"Probabilities\",fontsize = 15)\n",
    "    plt.plot([-0.2, 1.2], [T, T])\n",
    "    plt.axis([-0.1, 1.1, -0.1, 1.1])\n",
    "scatter(y_test,y_out_proba[:,1],0.5)"
   ]
  },
  {
   "cell_type": "code",
   "execution_count": 26,
   "metadata": {
    "colab": {
     "base_uri": "https://localhost:8080/"
    },
    "executionInfo": {
     "elapsed": 2845,
     "status": "ok",
     "timestamp": 1612869878705,
     "user": {
      "displayName": "Gladilin Peter",
      "photoUrl": "https://lh3.googleusercontent.com/a-/AOh14GgeleMHM97hzpemsBIs8kzICj_GZJgu5JJp1wteeA=s64",
      "userId": "07086843924195418286"
     },
     "user_tz": -180
    },
    "id": "kUNt1NHiBEdJ",
    "outputId": "636f30af-0ae3-4d2b-e02b-d92e4911e2ba"
   },
   "outputs": [
    {
     "data": {
      "text/plain": [
       "1110"
      ]
     },
     "execution_count": 26,
     "metadata": {},
     "output_type": "execute_result"
    }
   ],
   "source": [
    "len(thr)"
   ]
  },
  {
   "cell_type": "code",
   "execution_count": null,
   "metadata": {
    "executionInfo": {
     "elapsed": 2844,
     "status": "ok",
     "timestamp": 1612869878706,
     "user": {
      "displayName": "Gladilin Peter",
      "photoUrl": "https://lh3.googleusercontent.com/a-/AOh14GgeleMHM97hzpemsBIs8kzICj_GZJgu5JJp1wteeA=s64",
      "userId": "07086843924195418286"
     },
     "user_tz": -180
    },
    "id": "oIOg18fpc7rG"
   },
   "outputs": [],
   "source": []
  }
 ],
 "metadata": {
  "colab": {
   "collapsed_sections": [],
   "name": "Classification_for_Bank_Marketing_Dataset.ipynb",
   "provenance": []
  },
  "kernelspec": {
   "display_name": "Python 3",
   "language": "python",
   "name": "python3"
  },
  "language_info": {
   "codemirror_mode": {
    "name": "ipython",
    "version": 3
   },
   "file_extension": ".py",
   "mimetype": "text/x-python",
   "name": "python",
   "nbconvert_exporter": "python",
   "pygments_lexer": "ipython3",
   "version": "3.7.6"
  }
 },
 "nbformat": 4,
 "nbformat_minor": 4
}
