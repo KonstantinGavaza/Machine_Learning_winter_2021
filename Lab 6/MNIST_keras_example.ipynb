{
 "cells": [
  {
   "cell_type": "code",
   "execution_count": 1,
   "metadata": {
    "id": "dijnOLlyxIt3"
   },
   "outputs": [
    {
     "name": "stderr",
     "output_type": "stream",
     "text": [
      "Using TensorFlow backend.\n"
     ]
    }
   ],
   "source": [
    "# Import data\n",
    "from keras.datasets import mnist\n",
    "from matplotlib import pyplot as plt\n",
    "\n"
   ]
  },
  {
   "cell_type": "code",
   "execution_count": 2,
   "metadata": {
    "colab": {
     "base_uri": "https://localhost:8080/",
     "height": 265
    },
    "id": "wCLwtw7zz7GT",
    "outputId": "a14be0d5-83c7-43b8-a23a-d881d74f9039"
   },
   "outputs": [
    {
     "data": {
      "image/png": "[encoded data removed]",
      "text/plain": [
       "<Figure size 432x288 with 1 Axes>"
      ]
     },
     "metadata": {
      "needs_background": "light"
     },
     "output_type": "display_data"
    }
   ],
   "source": [
    "# Load data\n",
    "(X_train, y_train), (X_test, y_test) = mnist.load_data()\n",
    "\n",
    "plt.imshow(X_train[100])\n",
    "plt.show()"
   ]
  },
  {
   "cell_type": "code",
   "execution_count": 3,
   "metadata": {
    "colab": {
     "base_uri": "https://localhost:8080/"
    },
    "id": "mhVAfipNlc92",
    "outputId": "4e5fba87-3ac4-46a9-cca8-36abeed0d476"
   },
   "outputs": [
    {
     "name": "stdout",
     "output_type": "stream",
     "text": [
      "(60000, 28, 28)\n",
      "(10000, 28, 28)\n",
      "(60000,)\n",
      "(10000,)\n"
     ]
    }
   ],
   "source": [
    "print(X_train.shape)\r\n",
    "print(X_test.shape)\r\n",
    "print(y_train.shape)\r\n",
    "print(y_test.shape)"
   ]
  },
  {
   "cell_type": "code",
   "execution_count": 4,
   "metadata": {
    "colab": {
     "base_uri": "https://localhost:8080/"
    },
    "id": "_UCiwkjclo12",
    "outputId": "57889cf2-0873-47dc-998a-abdcb8541327"
   },
   "outputs": [
    {
     "data": {
      "text/plain": [
       "9"
      ]
     },
     "execution_count": 4,
     "metadata": {},
     "output_type": "execute_result"
    }
   ],
   "source": [
    "y_test[20]"
   ]
  },
  {
   "cell_type": "code",
   "execution_count": 5,
   "metadata": {
    "id": "MR4T037gzzjW"
   },
   "outputs": [],
   "source": [
    "# Import libraries and modules\n",
    "import numpy as np\n",
    "np.random.seed(123)  # for reproducibility\n",
    " \n",
    "from tensorflow.keras.models import Sequential\n",
    "from tensorflow.keras.layers import Dense, Dropout, Activation, Flatten\n",
    "from tensorflow.keras.layers import Conv2D, MaxPooling2D\n",
    "from keras.utils import np_utils\n"
   ]
  },
  {
   "cell_type": "code",
   "execution_count": 6,
   "metadata": {
    "id": "PDYfN0QSl-q_"
   },
   "outputs": [
    {
     "name": "stdout",
     "output_type": "stream",
     "text": [
      "Train on 54000 samples, validate on 6000 samples\n",
      "Epoch 1/10\n",
      "54000/54000 - 11s - loss: 0.1991 - accuracy: 0.9406 - val_loss: 0.0937 - val_accuracy: 0.9717\n",
      "Epoch 2/10\n",
      "54000/54000 - 9s - loss: 0.0781 - accuracy: 0.9757 - val_loss: 0.0720 - val_accuracy: 0.9802\n",
      "Epoch 3/10\n",
      "54000/54000 - 10s - loss: 0.0507 - accuracy: 0.9839 - val_loss: 0.0776 - val_accuracy: 0.9773\n",
      "Epoch 4/10\n",
      "54000/54000 - 10s - loss: 0.0333 - accuracy: 0.9897 - val_loss: 0.0629 - val_accuracy: 0.9815\n",
      "Epoch 5/10\n",
      "54000/54000 - 11s - loss: 0.0262 - accuracy: 0.9909 - val_loss: 0.0752 - val_accuracy: 0.9813\n",
      "Epoch 6/10\n",
      "54000/54000 - 10s - loss: 0.0207 - accuracy: 0.9934 - val_loss: 0.0761 - val_accuracy: 0.9812\n",
      "Epoch 7/10\n",
      "54000/54000 - 9s - loss: 0.0147 - accuracy: 0.9953 - val_loss: 0.0757 - val_accuracy: 0.9820\n",
      "Epoch 8/10\n",
      "54000/54000 - 9s - loss: 0.0123 - accuracy: 0.9959 - val_loss: 0.0779 - val_accuracy: 0.9830\n",
      "Epoch 9/10\n",
      "54000/54000 - 9s - loss: 0.0137 - accuracy: 0.9954 - val_loss: 0.0871 - val_accuracy: 0.9815\n",
      "Epoch 10/10\n",
      "54000/54000 - 9s - loss: 0.0119 - accuracy: 0.9960 - val_loss: 0.0929 - val_accuracy: 0.9823\n"
     ]
    }
   ],
   "source": [
    "# (Flashback from optimimization algs notebook)\r\n",
    "\r\n",
    "# flatten 28*28 images to a 784 vector for each image\r\n",
    "num_pixels = X_train.shape[1] * X_train.shape[2]\r\n",
    "X_train = X_train.reshape(X_train.shape[0], num_pixels).astype('float32')\r\n",
    "X_test = X_test.reshape(X_test.shape[0], num_pixels).astype('float32')\r\n",
    "\r\n",
    "# normalize inputs from 0-255 to 0-1\r\n",
    "X_train = X_train / 255\r\n",
    "X_test = X_test / 255\r\n",
    "\r\n",
    "# one hot encode outputs\r\n",
    "y_train = np_utils.to_categorical(y_train)\r\n",
    "y_test = np_utils.to_categorical(y_test)\r\n",
    "num_classes = y_test.shape[1]\r\n",
    "\r\n",
    "# define baseline model\r\n",
    "def baseline_model():\r\n",
    "    # create model\r\n",
    "    model = Sequential()\r\n",
    "    model.add(Dense(num_pixels, input_dim=num_pixels, kernel_initializer='normal', activation='relu'))\r\n",
    "    model.add(Dense(num_classes, kernel_initializer='normal', activation='softmax'))\r\n",
    "    return model\r\n",
    "\r\n",
    "model_dense = baseline_model()\r\n",
    "model_dense.compile(loss='categorical_crossentropy', optimizer='adam', metrics=['accuracy'])\r\n",
    "\r\n",
    "# Fit the model\r\n",
    "history_dense = model_dense.fit(X_train, y_train, validation_split=0.1, epochs=10, batch_size=32, verbose=2)"
   ]
  },
  {
   "cell_type": "code",
   "execution_count": 7,
   "metadata": {
    "colab": {
     "base_uri": "https://localhost:8080/"
    },
    "id": "BlJXJ-Wgn7t9",
    "outputId": "614851ff-b58e-4b45-81c2-74b09e0412ed"
   },
   "outputs": [
    {
     "name": "stdout",
     "output_type": "stream",
     "text": [
      "dict_keys(['loss', 'accuracy', 'val_loss', 'val_accuracy'])\n"
     ]
    }
   ],
   "source": [
    "print(history_dense.history.keys())"
   ]
  },
  {
   "cell_type": "code",
   "execution_count": 8,
   "metadata": {
    "colab": {
     "base_uri": "https://localhost:8080/"
    },
    "id": "DU7d6LawoPiZ",
    "outputId": "e25cb754-73bd-4172-bb37-80e913f253a6"
   },
   "outputs": [
    {
     "name": "stdout",
     "output_type": "stream",
     "text": [
      "Model: \"sequential\"\n",
      "_________________________________________________________________\n",
      "Layer (type)                 Output Shape              Param #   \n",
      "=================================================================\n",
      "dense (Dense)                (None, 784)               615440    \n",
      "_________________________________________________________________\n",
      "dense_1 (Dense)              (None, 10)                7850      \n",
      "=================================================================\n",
      "Total params: 623,290\n",
      "Trainable params: 623,290\n",
      "Non-trainable params: 0\n",
      "_________________________________________________________________\n"
     ]
    }
   ],
   "source": [
    "model_dense.summary()"
   ]
  },
  {
   "cell_type": "code",
   "execution_count": 11,
   "metadata": {
    "colab": {
     "base_uri": "https://localhost:8080/",
     "height": 296
    },
    "id": "EmaBlVMhnVWl",
    "outputId": "9524c6a3-4caf-4539-a892-c3f40a4d0b7b"
   },
   "outputs": [
    {
     "name": "stdout",
     "output_type": "stream",
     "text": [
      "accuracy of the dense model =  0.98\n"
     ]
    },
    {
     "data": {
      "image/png": "[encoded data removed]",
      "text/plain": [
       "<Figure size 432x288 with 1 Axes>"
      ]
     },
     "metadata": {
      "needs_background": "light"
     },
     "output_type": "display_data"
    }
   ],
   "source": [
    "score = model_dense.evaluate(X_test, y_test, verbose=0)\r\n",
    "print('accuracy of the dense model = ', round(score[1],2))\r\n",
    "\r\n",
    "# summarize history for loss\r\n",
    "plt.plot(history_dense.history['accuracy'])\r\n",
    "plt.plot(history_dense.history['val_accuracy'])\r\n",
    "plt.plot(history_dense.history['loss'])\r\n",
    "plt.plot(history_dense.history['val_loss'])\r\n",
    "plt.xlim(0,9)\r\n",
    "plt.grid()\r\n",
    "plt.ylabel('accuracy')\r\n",
    "plt.xlabel('epoch')\r\n",
    "plt.legend(['accuracy', 'val_accuracy','loss', 'val_loss'], loc='best')\r\n",
    "plt.show()"
   ]
  },
  {
   "cell_type": "code",
   "execution_count": 12,
   "metadata": {
    "id": "AarztxfO1Cfk"
   },
   "outputs": [],
   "source": [
    "# Preprocess input data for CNN model\n",
    "\n",
    "# reload the data\n",
    "(X_train, y_train), (X_test, y_test) = mnist.load_data()\n",
    "\n",
    "X_train = X_train.reshape(X_train.shape[0], 28, 28,1)\n",
    "X_test = X_test.reshape(X_test.shape[0], 28, 28,1)\n",
    "X_train = X_train.astype('float32')\n",
    "X_test = X_test.astype('float32')\n",
    "X_train /= 255\n",
    "X_test /= 255"
   ]
  },
  {
   "cell_type": "code",
   "execution_count": 13,
   "metadata": {
    "id": "tOJjnwIU1D3t"
   },
   "outputs": [],
   "source": [
    "# Preprocess class labels\n",
    "Y_train = np_utils.to_categorical(y_train, 10)\n",
    "Y_test = np_utils.to_categorical(y_test, 10)"
   ]
  },
  {
   "cell_type": "code",
   "execution_count": 14,
   "metadata": {
    "id": "6KCmr_cJ1HIX"
   },
   "outputs": [],
   "source": [
    "#  Define model architecture\n",
    "model = Sequential()\n",
    " \n",
    "# Creating a Sequential Model and adding the layers\n",
    "model = Sequential()\n",
    "model.add(Conv2D(28, kernel_size=(3,3), input_shape=(28, 28,1)))\n",
    "model.add(MaxPooling2D(pool_size=(2, 2)))\n",
    "# Flattening the 2D arrays for fully connected layers\n",
    "model.add(Flatten()) \n",
    "model.add(Dense(32, activation='relu'))\n",
    "model.add(Dropout(0.2))\n",
    "model.add(Dense(10,activation='softmax'))"
   ]
  },
  {
   "cell_type": "code",
   "execution_count": 15,
   "metadata": {
    "id": "7LqzoWKV1JTR"
   },
   "outputs": [],
   "source": [
    "# Compile model\n",
    "model.compile(loss='categorical_crossentropy',\n",
    "              optimizer='adam',\n",
    "              metrics=['accuracy'])"
   ]
  },
  {
   "cell_type": "code",
   "execution_count": 16,
   "metadata": {
    "colab": {
     "base_uri": "https://localhost:8080/"
    },
    "id": "637SfBaM1LE5",
    "outputId": "07c0062b-a415-430c-84a1-ad23b7901a75"
   },
   "outputs": [
    {
     "name": "stdout",
     "output_type": "stream",
     "text": [
      "Train on 54000 samples, validate on 6000 samples\n",
      "Epoch 1/10\n",
      "54000/54000 - 13s - loss: 0.3582 - accuracy: 0.8919 - val_loss: 0.1114 - val_accuracy: 0.9662\n",
      "Epoch 2/10\n",
      "54000/54000 - 14s - loss: 0.1663 - accuracy: 0.9499 - val_loss: 0.0764 - val_accuracy: 0.9773\n",
      "Epoch 3/10\n",
      "54000/54000 - 14s - loss: 0.1248 - accuracy: 0.9623 - val_loss: 0.0702 - val_accuracy: 0.9810\n",
      "Epoch 4/10\n",
      "54000/54000 - 13s - loss: 0.1036 - accuracy: 0.9679 - val_loss: 0.0719 - val_accuracy: 0.9788\n",
      "Epoch 5/10\n",
      "54000/54000 - 12s - loss: 0.0904 - accuracy: 0.9716 - val_loss: 0.0652 - val_accuracy: 0.9815\n",
      "Epoch 6/10\n",
      "54000/54000 - 12s - loss: 0.0804 - accuracy: 0.9743 - val_loss: 0.0662 - val_accuracy: 0.9833\n",
      "Epoch 7/10\n",
      "54000/54000 - 12s - loss: 0.0726 - accuracy: 0.9767 - val_loss: 0.0632 - val_accuracy: 0.9827\n",
      "Epoch 8/10\n",
      "54000/54000 - 13s - loss: 0.0662 - accuracy: 0.9775 - val_loss: 0.0573 - val_accuracy: 0.9838\n",
      "Epoch 9/10\n",
      "54000/54000 - 13s - loss: 0.0628 - accuracy: 0.9793 - val_loss: 0.0630 - val_accuracy: 0.9857\n",
      "Epoch 10/10\n",
      "54000/54000 - 14s - loss: 0.0589 - accuracy: 0.9803 - val_loss: 0.0575 - val_accuracy: 0.9855\n"
     ]
    }
   ],
   "source": [
    "#  Fit model on training data\n",
    "history_cnn = model.fit(X_train, Y_train,  validation_split=0.1,\n",
    "          batch_size=32, epochs=10, verbose=2)"
   ]
  },
  {
   "cell_type": "code",
   "execution_count": 17,
   "metadata": {
    "colab": {
     "base_uri": "https://localhost:8080/"
    },
    "id": "X3R5MSrcqOJw",
    "outputId": "e1202aca-a2f6-4cdf-8133-73548abd2bc4"
   },
   "outputs": [
    {
     "name": "stdout",
     "output_type": "stream",
     "text": [
      "Model: \"sequential_2\"\n",
      "_________________________________________________________________\n",
      "Layer (type)                 Output Shape              Param #   \n",
      "=================================================================\n",
      "conv2d (Conv2D)              (None, 26, 26, 28)        280       \n",
      "_________________________________________________________________\n",
      "max_pooling2d (MaxPooling2D) (None, 13, 13, 28)        0         \n",
      "_________________________________________________________________\n",
      "flatten (Flatten)            (None, 4732)              0         \n",
      "_________________________________________________________________\n",
      "dense_2 (Dense)              (None, 32)                151456    \n",
      "_________________________________________________________________\n",
      "dropout (Dropout)            (None, 32)                0         \n",
      "_________________________________________________________________\n",
      "dense_3 (Dense)              (None, 10)                330       \n",
      "=================================================================\n",
      "Total params: 152,066\n",
      "Trainable params: 152,066\n",
      "Non-trainable params: 0\n",
      "_________________________________________________________________\n"
     ]
    }
   ],
   "source": [
    "model.summary()"
   ]
  },
  {
   "cell_type": "code",
   "execution_count": 18,
   "metadata": {
    "colab": {
     "base_uri": "https://localhost:8080/"
    },
    "id": "vDSZomVh3Zic",
    "outputId": "ab818447-6134-46c1-cf8b-9077aff2996b"
   },
   "outputs": [
    {
     "name": "stdout",
     "output_type": "stream",
     "text": [
      "dict_keys(['loss', 'accuracy', 'val_loss', 'val_accuracy'])\n"
     ]
    }
   ],
   "source": [
    "# list all data in history\n",
    "print(history_cnn.history.keys())"
   ]
  },
  {
   "cell_type": "code",
   "execution_count": 19,
   "metadata": {
    "colab": {
     "base_uri": "https://localhost:8080/",
     "height": 296
    },
    "id": "gYQ8Ah5e3WtZ",
    "outputId": "41f3085e-c876-46e1-debf-2a8fe7252172"
   },
   "outputs": [
    {
     "name": "stdout",
     "output_type": "stream",
     "text": [
      "accuracy of the cnn model =  0.98\n"
     ]
    },
    {
     "data": {
      "image/png": "[encoded data removed]",
      "text/plain": [
       "<Figure size 432x288 with 1 Axes>"
      ]
     },
     "metadata": {
      "needs_background": "light"
     },
     "output_type": "display_data"
    }
   ],
   "source": [
    "# summarize history for loss\n",
    "score = model.evaluate(X_test, Y_test, verbose=0)\n",
    "print('accuracy of the cnn model = ', round(score[1],2))\n",
    "\n",
    "# summarize history for loss\n",
    "plt.plot(history_cnn.history['accuracy'])\n",
    "plt.plot(history_cnn.history['val_accuracy'])\n",
    "plt.plot(history_cnn.history['loss'])\n",
    "plt.plot(history_cnn.history['val_loss'])\n",
    "plt.xlim(0,9)\n",
    "plt.grid()\n",
    "plt.ylabel('accuracy')\n",
    "plt.xlabel('epoch')\n",
    "plt.legend(['accuracy', 'val_accuracy','loss', 'val_loss'], loc='best')\n",
    "plt.show()"
   ]
  },
  {
   "cell_type": "code",
   "execution_count": 20,
   "metadata": {
    "colab": {
     "base_uri": "https://localhost:8080/"
    },
    "id": "3GOkKUYt1MnL",
    "outputId": "a2707766-c783-4933-d754-75cabcc580fe"
   },
   "outputs": [
    {
     "data": {
      "text/plain": [
       "[0.06278113232097239, 0.9832]"
      ]
     },
     "execution_count": 20,
     "metadata": {},
     "output_type": "execute_result"
    }
   ],
   "source": [
    "# Evaluate model on test data\n",
    "score = model.evaluate(X_test, Y_test, verbose=0)\n",
    "score"
   ]
  }
 ],
 "metadata": {
  "colab": {
   "collapsed_sections": [],
   "name": "MNIST_keras_example.ipynb",
   "provenance": []
  },
  "kernelspec": {
   "display_name": "Python 3",
   "language": "python",
   "name": "python3"
  },
  "language_info": {
   "codemirror_mode": {
    "name": "ipython",
    "version": 3
   },
   "file_extension": ".py",
   "mimetype": "text/x-python",
   "name": "python",
   "nbconvert_exporter": "python",
   "pygments_lexer": "ipython3",
   "version": "3.7.6"
  }
 },
 "nbformat": 4,
 "nbformat_minor": 4
}
