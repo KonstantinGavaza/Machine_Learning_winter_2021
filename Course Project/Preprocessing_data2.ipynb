{
 "cells": [
  {
   "cell_type": "code",
   "execution_count": 5,
   "id": "dominant-advertiser",
   "metadata": {},
   "outputs": [],
   "source": [
    "def data_preprocess(data, store):\n",
    "    import pandas as pd\n",
    "    import numpy as np\n",
    "    \n",
    "    data['Date']=pd.to_datetime(data['Date'],format='%Y-%m-%d')\n",
    "    \n",
    "    store['Promo2SinceWeek']= store['Promo2SinceWeek'].fillna(0)\n",
    "    store['Promo2SinceYear']= store['Promo2SinceYear'].fillna(store['Promo2SinceYear'].mode().iloc[0])\n",
    "    store['PromoInterval']= store['PromoInterval'].fillna(store['PromoInterval'].mode().iloc[0]) \n",
    "\n",
    "    store['CompetitionDistance']=store['CompetitionDistance'].fillna(store['CompetitionDistance'].max())\n",
    "    store['CompetitionOpenSinceMonth']= store['CompetitionOpenSinceMonth'].fillna(store['CompetitionOpenSinceMonth'].mode().iloc[0])\n",
    "    store['CompetitionOpenSinceYear']= store['CompetitionOpenSinceYear'].fillna(store['CompetitionOpenSinceYear'].mode().iloc[0])\n",
    "    \n",
    "    data = data.merge(store, 'left', 'Store')\n",
    "    \n",
    "    data['day']=data['Date'].dt.day\n",
    "    data['month']=data['Date'].dt.month\n",
    "    data['year']=data['Date'].dt.year\n",
    "\n",
    "    data['StateHoliday']=data['StateHoliday'].map({'0':0,0:0,'a':1,'b':2,'c':3})\n",
    "    data['StateHoliday']=data['StateHoliday'].astype(int)\n",
    "    \n",
    "    data['Assortment']=data['Assortment'].map({'a':1,'b':2,'c':3})\n",
    "    data['Assortment']=data['Assortment'].astype(int)\n",
    "    \n",
    "    data['StoreType']=data['StoreType'].map({'a':1,'b':2,'c':3,'d':4})\n",
    "    data['StoreType']=data['StoreType'].astype(int)\n",
    "    \n",
    "    map_promo = {'Jan,Apr,Jul,Oct':1,'Feb,May,Aug,Nov':2,'Mar,Jun,Sept,Dec':3}\n",
    "    data['PromoInterval']=data['PromoInterval'].map(map_promo)\n",
    "    \n",
    "    return data"
   ]
  },
  {
   "cell_type": "code",
   "execution_count": null,
   "id": "controlled-conference",
   "metadata": {},
   "outputs": [],
   "source": []
  }
 ],
 "metadata": {
  "kernelspec": {
   "display_name": "Python 3",
   "language": "python",
   "name": "python3"
  },
  "language_info": {
   "codemirror_mode": {
    "name": "ipython",
    "version": 3
   },
   "file_extension": ".py",
   "mimetype": "text/x-python",
   "name": "python",
   "nbconvert_exporter": "python",
   "pygments_lexer": "ipython3",
   "version": "3.7.6"
  }
 },
 "nbformat": 4,
 "nbformat_minor": 5
}
