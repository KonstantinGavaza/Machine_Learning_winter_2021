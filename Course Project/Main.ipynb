{
 "cells": [
  {
   "cell_type": "code",
   "execution_count": 1,
   "id": "alike-mediterranean",
   "metadata": {},
   "outputs": [],
   "source": [
    "import pandas as pd\n",
    "import numpy as np\n",
    "\n",
    "from ipynb.fs.full.Preprocessing_data1 import prepare_dataframe\n",
    "from ipynb.fs.full.Preprocessing_data2 import data_preprocess"
   ]
  },
  {
   "cell_type": "markdown",
   "id": "classical-mexico",
   "metadata": {},
   "source": [
    "Loading data (Data_1)"
   ]
  },
  {
   "cell_type": "code",
   "execution_count": 2,
   "id": "defined-passport",
   "metadata": {},
   "outputs": [],
   "source": [
    "data_1 = pd.read_csv('./Data_1/train.csv')\n",
    "data_1_st = pd.read_csv('./Data_1/stores.csv')\n",
    "data_1_ft = pd.read_csv('./Data_1/features.csv')"
   ]
  },
  {
   "cell_type": "code",
   "execution_count": 3,
   "id": "intensive-alexandria",
   "metadata": {},
   "outputs": [],
   "source": [
    "data_1 = data_1.merge(data_1_st, 'left', 'Store')\n",
    "data_1 = data_1.merge(data_1_ft, 'left', ['Store', 'Date', 'IsHoliday'])"
   ]
  },
  {
   "cell_type": "code",
   "execution_count": 4,
   "id": "functional-classics",
   "metadata": {},
   "outputs": [
    {
     "data": {
      "text/html": [
       "<div>\n",
       "<style scoped>\n",
       "    .dataframe tbody tr th:only-of-type {\n",
       "        vertical-align: middle;\n",
       "    }\n",
       "\n",
       "    .dataframe tbody tr th {\n",
       "        vertical-align: top;\n",
       "    }\n",
       "\n",
       "    .dataframe thead th {\n",
       "        text-align: right;\n",
       "    }\n",
       "</style>\n",
       "<table border=\"1\" class=\"dataframe\">\n",
       "  <thead>\n",
       "    <tr style=\"text-align: right;\">\n",
       "      <th></th>\n",
       "      <th>Store</th>\n",
       "      <th>Dept</th>\n",
       "      <th>Date</th>\n",
       "      <th>Weekly_Sales</th>\n",
       "      <th>IsHoliday</th>\n",
       "      <th>Type</th>\n",
       "      <th>Size</th>\n",
       "      <th>Temperature</th>\n",
       "      <th>Fuel_Price</th>\n",
       "      <th>MarkDown1</th>\n",
       "      <th>MarkDown2</th>\n",
       "      <th>MarkDown3</th>\n",
       "      <th>MarkDown4</th>\n",
       "      <th>MarkDown5</th>\n",
       "      <th>CPI</th>\n",
       "      <th>Unemployment</th>\n",
       "    </tr>\n",
       "  </thead>\n",
       "  <tbody>\n",
       "    <tr>\n",
       "      <th>0</th>\n",
       "      <td>1</td>\n",
       "      <td>1</td>\n",
       "      <td>2010-02-05</td>\n",
       "      <td>24924.50</td>\n",
       "      <td>False</td>\n",
       "      <td>A</td>\n",
       "      <td>151315</td>\n",
       "      <td>42.31</td>\n",
       "      <td>2.572</td>\n",
       "      <td>NaN</td>\n",
       "      <td>NaN</td>\n",
       "      <td>NaN</td>\n",
       "      <td>NaN</td>\n",
       "      <td>NaN</td>\n",
       "      <td>211.096358</td>\n",
       "      <td>8.106</td>\n",
       "    </tr>\n",
       "    <tr>\n",
       "      <th>1</th>\n",
       "      <td>1</td>\n",
       "      <td>1</td>\n",
       "      <td>2010-02-12</td>\n",
       "      <td>46039.49</td>\n",
       "      <td>True</td>\n",
       "      <td>A</td>\n",
       "      <td>151315</td>\n",
       "      <td>38.51</td>\n",
       "      <td>2.548</td>\n",
       "      <td>NaN</td>\n",
       "      <td>NaN</td>\n",
       "      <td>NaN</td>\n",
       "      <td>NaN</td>\n",
       "      <td>NaN</td>\n",
       "      <td>211.242170</td>\n",
       "      <td>8.106</td>\n",
       "    </tr>\n",
       "    <tr>\n",
       "      <th>2</th>\n",
       "      <td>1</td>\n",
       "      <td>1</td>\n",
       "      <td>2010-02-19</td>\n",
       "      <td>41595.55</td>\n",
       "      <td>False</td>\n",
       "      <td>A</td>\n",
       "      <td>151315</td>\n",
       "      <td>39.93</td>\n",
       "      <td>2.514</td>\n",
       "      <td>NaN</td>\n",
       "      <td>NaN</td>\n",
       "      <td>NaN</td>\n",
       "      <td>NaN</td>\n",
       "      <td>NaN</td>\n",
       "      <td>211.289143</td>\n",
       "      <td>8.106</td>\n",
       "    </tr>\n",
       "    <tr>\n",
       "      <th>3</th>\n",
       "      <td>1</td>\n",
       "      <td>1</td>\n",
       "      <td>2010-02-26</td>\n",
       "      <td>19403.54</td>\n",
       "      <td>False</td>\n",
       "      <td>A</td>\n",
       "      <td>151315</td>\n",
       "      <td>46.63</td>\n",
       "      <td>2.561</td>\n",
       "      <td>NaN</td>\n",
       "      <td>NaN</td>\n",
       "      <td>NaN</td>\n",
       "      <td>NaN</td>\n",
       "      <td>NaN</td>\n",
       "      <td>211.319643</td>\n",
       "      <td>8.106</td>\n",
       "    </tr>\n",
       "    <tr>\n",
       "      <th>4</th>\n",
       "      <td>1</td>\n",
       "      <td>1</td>\n",
       "      <td>2010-03-05</td>\n",
       "      <td>21827.90</td>\n",
       "      <td>False</td>\n",
       "      <td>A</td>\n",
       "      <td>151315</td>\n",
       "      <td>46.50</td>\n",
       "      <td>2.625</td>\n",
       "      <td>NaN</td>\n",
       "      <td>NaN</td>\n",
       "      <td>NaN</td>\n",
       "      <td>NaN</td>\n",
       "      <td>NaN</td>\n",
       "      <td>211.350143</td>\n",
       "      <td>8.106</td>\n",
       "    </tr>\n",
       "  </tbody>\n",
       "</table>\n",
       "</div>"
      ],
      "text/plain": [
       "   Store  Dept        Date  Weekly_Sales  IsHoliday Type    Size  Temperature  \\\n",
       "0      1     1  2010-02-05      24924.50      False    A  151315        42.31   \n",
       "1      1     1  2010-02-12      46039.49       True    A  151315        38.51   \n",
       "2      1     1  2010-02-19      41595.55      False    A  151315        39.93   \n",
       "3      1     1  2010-02-26      19403.54      False    A  151315        46.63   \n",
       "4      1     1  2010-03-05      21827.90      False    A  151315        46.50   \n",
       "\n",
       "   Fuel_Price  MarkDown1  MarkDown2  MarkDown3  MarkDown4  MarkDown5  \\\n",
       "0       2.572        NaN        NaN        NaN        NaN        NaN   \n",
       "1       2.548        NaN        NaN        NaN        NaN        NaN   \n",
       "2       2.514        NaN        NaN        NaN        NaN        NaN   \n",
       "3       2.561        NaN        NaN        NaN        NaN        NaN   \n",
       "4       2.625        NaN        NaN        NaN        NaN        NaN   \n",
       "\n",
       "          CPI  Unemployment  \n",
       "0  211.096358         8.106  \n",
       "1  211.242170         8.106  \n",
       "2  211.289143         8.106  \n",
       "3  211.319643         8.106  \n",
       "4  211.350143         8.106  "
      ]
     },
     "execution_count": 4,
     "metadata": {},
     "output_type": "execute_result"
    }
   ],
   "source": [
    "data_1.head()"
   ]
  },
  {
   "cell_type": "code",
   "execution_count": 5,
   "id": "fifty-payment",
   "metadata": {},
   "outputs": [
    {
     "data": {
      "text/plain": [
       "(421570, 16)"
      ]
     },
     "execution_count": 5,
     "metadata": {},
     "output_type": "execute_result"
    }
   ],
   "source": [
    "data_1.shape"
   ]
  },
  {
   "cell_type": "markdown",
   "id": "dietary-upgrade",
   "metadata": {},
   "source": [
    "Loading data (Data_2)"
   ]
  },
  {
   "cell_type": "code",
   "execution_count": 6,
   "id": "everyday-management",
   "metadata": {},
   "outputs": [
    {
     "name": "stderr",
     "output_type": "stream",
     "text": [
      "C:\\Anaconda3\\lib\\site-packages\\IPython\\core\\interactiveshell.py:3156: DtypeWarning: Columns (7) have mixed types.Specify dtype option on import or set low_memory=False.\n",
      "  interactivity=interactivity, compiler=compiler, result=result)\n"
     ]
    }
   ],
   "source": [
    "data_2 = pd.read_csv('./Data_2/train.csv')\n",
    "data_2_st = pd.read_csv('./Data_2/store.csv')\n",
    "data_1_ss = pd.read_csv('./Data_2/sample_submission.csv')"
   ]
  },
  {
   "cell_type": "markdown",
   "id": "stable-lyric",
   "metadata": {},
   "source": [
    "Loading data (Data_3)"
   ]
  },
  {
   "cell_type": "code",
   "execution_count": 7,
   "id": "opponent-rebate",
   "metadata": {},
   "outputs": [],
   "source": [
    "data_3 = pd.read_csv('./Data_3/mock_kaggle.csv')"
   ]
  },
  {
   "cell_type": "markdown",
   "id": "coupled-employer",
   "metadata": {},
   "source": [
    "Preprocessing for Data_1"
   ]
  },
  {
   "cell_type": "code",
   "execution_count": 8,
   "id": "neutral-minister",
   "metadata": {},
   "outputs": [],
   "source": [
    "data_1['Date'] = pd.to_datetime(data_1['Date'], format='%Y-%m-%d')\n",
    "data_train_1, transform_col = prepare_dataframe(data_1)"
   ]
  },
  {
   "cell_type": "code",
   "execution_count": 9,
   "id": "hollow-blogger",
   "metadata": {},
   "outputs": [
    {
     "data": {
      "text/html": [
       "<div>\n",
       "<style scoped>\n",
       "    .dataframe tbody tr th:only-of-type {\n",
       "        vertical-align: middle;\n",
       "    }\n",
       "\n",
       "    .dataframe tbody tr th {\n",
       "        vertical-align: top;\n",
       "    }\n",
       "\n",
       "    .dataframe thead th {\n",
       "        text-align: right;\n",
       "    }\n",
       "</style>\n",
       "<table border=\"1\" class=\"dataframe\">\n",
       "  <thead>\n",
       "    <tr style=\"text-align: right;\">\n",
       "      <th></th>\n",
       "      <th>Store</th>\n",
       "      <th>Dept</th>\n",
       "      <th>Type</th>\n",
       "      <th>Size</th>\n",
       "      <th>is_holiday</th>\n",
       "      <th>year</th>\n",
       "      <th>week</th>\n",
       "      <th>is_week_start_month</th>\n",
       "      <th>month</th>\n",
       "      <th>is_week_fortnight</th>\n",
       "      <th>is_week_end_month</th>\n",
       "      <th>qt_holiday_week</th>\n",
       "      <th>Weekly_Sales</th>\n",
       "    </tr>\n",
       "  </thead>\n",
       "  <tbody>\n",
       "    <tr>\n",
       "      <th>0</th>\n",
       "      <td>1.0</td>\n",
       "      <td>1.0</td>\n",
       "      <td>A</td>\n",
       "      <td>151315.0</td>\n",
       "      <td>0.0</td>\n",
       "      <td>2010.0</td>\n",
       "      <td>5.0</td>\n",
       "      <td>0.0</td>\n",
       "      <td>2.0</td>\n",
       "      <td>0.0</td>\n",
       "      <td>0.0</td>\n",
       "      <td>2955.0</td>\n",
       "      <td>24924.50</td>\n",
       "    </tr>\n",
       "    <tr>\n",
       "      <th>1</th>\n",
       "      <td>1.0</td>\n",
       "      <td>1.0</td>\n",
       "      <td>A</td>\n",
       "      <td>151315.0</td>\n",
       "      <td>1.0</td>\n",
       "      <td>2010.0</td>\n",
       "      <td>6.0</td>\n",
       "      <td>0.0</td>\n",
       "      <td>2.0</td>\n",
       "      <td>0.0</td>\n",
       "      <td>0.0</td>\n",
       "      <td>2956.0</td>\n",
       "      <td>46039.49</td>\n",
       "    </tr>\n",
       "    <tr>\n",
       "      <th>2</th>\n",
       "      <td>1.0</td>\n",
       "      <td>1.0</td>\n",
       "      <td>A</td>\n",
       "      <td>151315.0</td>\n",
       "      <td>0.0</td>\n",
       "      <td>2010.0</td>\n",
       "      <td>7.0</td>\n",
       "      <td>0.0</td>\n",
       "      <td>2.0</td>\n",
       "      <td>1.0</td>\n",
       "      <td>0.0</td>\n",
       "      <td>2977.0</td>\n",
       "      <td>41595.55</td>\n",
       "    </tr>\n",
       "    <tr>\n",
       "      <th>3</th>\n",
       "      <td>1.0</td>\n",
       "      <td>1.0</td>\n",
       "      <td>A</td>\n",
       "      <td>151315.0</td>\n",
       "      <td>0.0</td>\n",
       "      <td>2010.0</td>\n",
       "      <td>8.0</td>\n",
       "      <td>0.0</td>\n",
       "      <td>2.0</td>\n",
       "      <td>0.0</td>\n",
       "      <td>1.0</td>\n",
       "      <td>2951.0</td>\n",
       "      <td>19403.54</td>\n",
       "    </tr>\n",
       "    <tr>\n",
       "      <th>4</th>\n",
       "      <td>1.0</td>\n",
       "      <td>1.0</td>\n",
       "      <td>A</td>\n",
       "      <td>151315.0</td>\n",
       "      <td>0.0</td>\n",
       "      <td>2010.0</td>\n",
       "      <td>9.0</td>\n",
       "      <td>1.0</td>\n",
       "      <td>3.0</td>\n",
       "      <td>0.0</td>\n",
       "      <td>0.0</td>\n",
       "      <td>2944.0</td>\n",
       "      <td>21827.90</td>\n",
       "    </tr>\n",
       "  </tbody>\n",
       "</table>\n",
       "</div>"
      ],
      "text/plain": [
       "   Store  Dept Type      Size  is_holiday    year  week  is_week_start_month  \\\n",
       "0    1.0   1.0    A  151315.0         0.0  2010.0   5.0                  0.0   \n",
       "1    1.0   1.0    A  151315.0         1.0  2010.0   6.0                  0.0   \n",
       "2    1.0   1.0    A  151315.0         0.0  2010.0   7.0                  0.0   \n",
       "3    1.0   1.0    A  151315.0         0.0  2010.0   8.0                  0.0   \n",
       "4    1.0   1.0    A  151315.0         0.0  2010.0   9.0                  1.0   \n",
       "\n",
       "   month  is_week_fortnight  is_week_end_month  qt_holiday_week  Weekly_Sales  \n",
       "0    2.0                0.0                0.0           2955.0      24924.50  \n",
       "1    2.0                0.0                0.0           2956.0      46039.49  \n",
       "2    2.0                1.0                0.0           2977.0      41595.55  \n",
       "3    2.0                0.0                1.0           2951.0      19403.54  \n",
       "4    3.0                0.0                0.0           2944.0      21827.90  "
      ]
     },
     "execution_count": 9,
     "metadata": {},
     "output_type": "execute_result"
    }
   ],
   "source": [
    "data_train_1.head()"
   ]
  },
  {
   "cell_type": "code",
   "execution_count": 10,
   "id": "satisfactory-personality",
   "metadata": {},
   "outputs": [
    {
     "data": {
      "text/plain": [
       "(421570, 13)"
      ]
     },
     "execution_count": 10,
     "metadata": {},
     "output_type": "execute_result"
    }
   ],
   "source": [
    "data_train_1.shape"
   ]
  },
  {
   "cell_type": "markdown",
   "id": "built-central",
   "metadata": {},
   "source": [
    "Preprocessing for Data_2"
   ]
  },
  {
   "cell_type": "code",
   "execution_count": 11,
   "id": "aggregate-beijing",
   "metadata": {},
   "outputs": [
    {
     "data": {
      "text/html": [
       "<div>\n",
       "<style scoped>\n",
       "    .dataframe tbody tr th:only-of-type {\n",
       "        vertical-align: middle;\n",
       "    }\n",
       "\n",
       "    .dataframe tbody tr th {\n",
       "        vertical-align: top;\n",
       "    }\n",
       "\n",
       "    .dataframe thead th {\n",
       "        text-align: right;\n",
       "    }\n",
       "</style>\n",
       "<table border=\"1\" class=\"dataframe\">\n",
       "  <thead>\n",
       "    <tr style=\"text-align: right;\">\n",
       "      <th></th>\n",
       "      <th>Store</th>\n",
       "      <th>DayOfWeek</th>\n",
       "      <th>Date</th>\n",
       "      <th>Sales</th>\n",
       "      <th>Customers</th>\n",
       "      <th>Open</th>\n",
       "      <th>Promo</th>\n",
       "      <th>StateHoliday</th>\n",
       "      <th>SchoolHoliday</th>\n",
       "      <th>StoreType</th>\n",
       "      <th>...</th>\n",
       "      <th>CompetitionDistance</th>\n",
       "      <th>CompetitionOpenSinceMonth</th>\n",
       "      <th>CompetitionOpenSinceYear</th>\n",
       "      <th>Promo2</th>\n",
       "      <th>Promo2SinceWeek</th>\n",
       "      <th>Promo2SinceYear</th>\n",
       "      <th>PromoInterval</th>\n",
       "      <th>day</th>\n",
       "      <th>month</th>\n",
       "      <th>year</th>\n",
       "    </tr>\n",
       "  </thead>\n",
       "  <tbody>\n",
       "    <tr>\n",
       "      <th>0</th>\n",
       "      <td>1</td>\n",
       "      <td>5</td>\n",
       "      <td>2015-07-31</td>\n",
       "      <td>5263</td>\n",
       "      <td>555</td>\n",
       "      <td>1</td>\n",
       "      <td>1</td>\n",
       "      <td>0</td>\n",
       "      <td>1</td>\n",
       "      <td>3</td>\n",
       "      <td>...</td>\n",
       "      <td>1270.0</td>\n",
       "      <td>9.0</td>\n",
       "      <td>2008.0</td>\n",
       "      <td>0</td>\n",
       "      <td>0.0</td>\n",
       "      <td>2011.0</td>\n",
       "      <td>1</td>\n",
       "      <td>31</td>\n",
       "      <td>7</td>\n",
       "      <td>2015</td>\n",
       "    </tr>\n",
       "    <tr>\n",
       "      <th>1</th>\n",
       "      <td>2</td>\n",
       "      <td>5</td>\n",
       "      <td>2015-07-31</td>\n",
       "      <td>6064</td>\n",
       "      <td>625</td>\n",
       "      <td>1</td>\n",
       "      <td>1</td>\n",
       "      <td>0</td>\n",
       "      <td>1</td>\n",
       "      <td>1</td>\n",
       "      <td>...</td>\n",
       "      <td>570.0</td>\n",
       "      <td>11.0</td>\n",
       "      <td>2007.0</td>\n",
       "      <td>1</td>\n",
       "      <td>13.0</td>\n",
       "      <td>2010.0</td>\n",
       "      <td>1</td>\n",
       "      <td>31</td>\n",
       "      <td>7</td>\n",
       "      <td>2015</td>\n",
       "    </tr>\n",
       "    <tr>\n",
       "      <th>2</th>\n",
       "      <td>3</td>\n",
       "      <td>5</td>\n",
       "      <td>2015-07-31</td>\n",
       "      <td>8314</td>\n",
       "      <td>821</td>\n",
       "      <td>1</td>\n",
       "      <td>1</td>\n",
       "      <td>0</td>\n",
       "      <td>1</td>\n",
       "      <td>1</td>\n",
       "      <td>...</td>\n",
       "      <td>14130.0</td>\n",
       "      <td>12.0</td>\n",
       "      <td>2006.0</td>\n",
       "      <td>1</td>\n",
       "      <td>14.0</td>\n",
       "      <td>2011.0</td>\n",
       "      <td>1</td>\n",
       "      <td>31</td>\n",
       "      <td>7</td>\n",
       "      <td>2015</td>\n",
       "    </tr>\n",
       "    <tr>\n",
       "      <th>3</th>\n",
       "      <td>4</td>\n",
       "      <td>5</td>\n",
       "      <td>2015-07-31</td>\n",
       "      <td>13995</td>\n",
       "      <td>1498</td>\n",
       "      <td>1</td>\n",
       "      <td>1</td>\n",
       "      <td>0</td>\n",
       "      <td>1</td>\n",
       "      <td>3</td>\n",
       "      <td>...</td>\n",
       "      <td>620.0</td>\n",
       "      <td>9.0</td>\n",
       "      <td>2009.0</td>\n",
       "      <td>0</td>\n",
       "      <td>0.0</td>\n",
       "      <td>2011.0</td>\n",
       "      <td>1</td>\n",
       "      <td>31</td>\n",
       "      <td>7</td>\n",
       "      <td>2015</td>\n",
       "    </tr>\n",
       "    <tr>\n",
       "      <th>4</th>\n",
       "      <td>5</td>\n",
       "      <td>5</td>\n",
       "      <td>2015-07-31</td>\n",
       "      <td>4822</td>\n",
       "      <td>559</td>\n",
       "      <td>1</td>\n",
       "      <td>1</td>\n",
       "      <td>0</td>\n",
       "      <td>1</td>\n",
       "      <td>1</td>\n",
       "      <td>...</td>\n",
       "      <td>29910.0</td>\n",
       "      <td>4.0</td>\n",
       "      <td>2015.0</td>\n",
       "      <td>0</td>\n",
       "      <td>0.0</td>\n",
       "      <td>2011.0</td>\n",
       "      <td>1</td>\n",
       "      <td>31</td>\n",
       "      <td>7</td>\n",
       "      <td>2015</td>\n",
       "    </tr>\n",
       "  </tbody>\n",
       "</table>\n",
       "<p>5 rows × 21 columns</p>\n",
       "</div>"
      ],
      "text/plain": [
       "   Store  DayOfWeek       Date  Sales  Customers  Open  Promo  StateHoliday  \\\n",
       "0      1          5 2015-07-31   5263        555     1      1             0   \n",
       "1      2          5 2015-07-31   6064        625     1      1             0   \n",
       "2      3          5 2015-07-31   8314        821     1      1             0   \n",
       "3      4          5 2015-07-31  13995       1498     1      1             0   \n",
       "4      5          5 2015-07-31   4822        559     1      1             0   \n",
       "\n",
       "   SchoolHoliday  StoreType  ...  CompetitionDistance  \\\n",
       "0              1          3  ...               1270.0   \n",
       "1              1          1  ...                570.0   \n",
       "2              1          1  ...              14130.0   \n",
       "3              1          3  ...                620.0   \n",
       "4              1          1  ...              29910.0   \n",
       "\n",
       "   CompetitionOpenSinceMonth  CompetitionOpenSinceYear  Promo2  \\\n",
       "0                        9.0                    2008.0       0   \n",
       "1                       11.0                    2007.0       1   \n",
       "2                       12.0                    2006.0       1   \n",
       "3                        9.0                    2009.0       0   \n",
       "4                        4.0                    2015.0       0   \n",
       "\n",
       "   Promo2SinceWeek  Promo2SinceYear  PromoInterval  day  month  year  \n",
       "0              0.0           2011.0              1   31      7  2015  \n",
       "1             13.0           2010.0              1   31      7  2015  \n",
       "2             14.0           2011.0              1   31      7  2015  \n",
       "3              0.0           2011.0              1   31      7  2015  \n",
       "4              0.0           2011.0              1   31      7  2015  \n",
       "\n",
       "[5 rows x 21 columns]"
      ]
     },
     "execution_count": 11,
     "metadata": {},
     "output_type": "execute_result"
    }
   ],
   "source": [
    "data_train_2 = data_preprocess(data_2, data_2_st)\n",
    "\n",
    "data_train_2.head()"
   ]
  },
  {
   "cell_type": "code",
   "execution_count": 12,
   "id": "sealed-piano",
   "metadata": {},
   "outputs": [
    {
     "data": {
      "text/plain": [
       "(1017209, 21)"
      ]
     },
     "execution_count": 12,
     "metadata": {},
     "output_type": "execute_result"
    }
   ],
   "source": [
    "data_train_2.shape"
   ]
  },
  {
   "cell_type": "markdown",
   "id": "fluid-bottom",
   "metadata": {},
   "source": [
    "Preprocessing for Data_3"
   ]
  },
  {
   "cell_type": "code",
   "execution_count": 13,
   "id": "beneficial-chester",
   "metadata": {},
   "outputs": [],
   "source": [
    "data_3 = data_3.rename(columns={'data' : 'Date', 'venda' : 'Sales', 'estoque' : 'Stock', 'preco' : 'Price'})\n",
    "               \n",
    "data_3['Revenue'] = data_3['Sales'] * data_3['Price']"
   ]
  },
  {
   "cell_type": "code",
   "execution_count": 14,
   "id": "first-contrary",
   "metadata": {},
   "outputs": [
    {
     "data": {
      "text/plain": [
       "(937, 5)"
      ]
     },
     "execution_count": 14,
     "metadata": {},
     "output_type": "execute_result"
    }
   ],
   "source": [
    "data_3.shape"
   ]
  },
  {
   "cell_type": "markdown",
   "id": "bottom-politics",
   "metadata": {},
   "source": [
    "Forecasting"
   ]
  },
  {
   "cell_type": "code",
   "execution_count": 15,
   "id": "killing-retreat",
   "metadata": {},
   "outputs": [],
   "source": [
    "def metrics(y_train, predict, y_test, predict_test):\n",
    "    from sklearn.metrics import mean_absolute_error, mean_squared_error\n",
    "    \n",
    "    print('RMSE:',mean_squared_error(y_train, predict, squared=False), mean_squared_error(y_test, predict_test, squared=False))\n",
    "    print('MAE:',mean_absolute_error(y_train, predict), mean_absolute_error(y_test, predict_test))\n",
    "    print('mean_absolute_percentage_error:',sum(abs(y_train - predict) / (y_train + 1e-5)) / len(predict), sum(abs(y_test - predict_test) / (y_test + 1e-5)) / len(predict_test))"
   ]
  },
  {
   "cell_type": "markdown",
   "id": "scheduled-gates",
   "metadata": {},
   "source": [
    "Data 1"
   ]
  },
  {
   "cell_type": "code",
   "execution_count": 16,
   "id": "young-patch",
   "metadata": {},
   "outputs": [],
   "source": [
    "from sklearn.model_selection import cross_val_predict, train_test_split, KFold\n",
    "from sklearn.pipeline import make_pipeline\n",
    "from sklearn.preprocessing import MinMaxScaler\n",
    "\n",
    "training_pipeline = make_pipeline(\n",
    "        transform_col,\n",
    "        MinMaxScaler())\n",
    "training_pipeline.fit(data_train_1)\n",
    "data_train_1_sc = pd.DataFrame(training_pipeline.transform(data_train_1), columns = data_train_1.columns.drop('Type'))\n",
    "data_train_1_sc['Type'] = data_train_1['Type']\n",
    "data_train_1 = data_train_1_sc\n",
    "X_1 = data_train_1.drop(['Weekly_Sales'], axis=1)\n",
    "Y_1 = data_train_1['Weekly_Sales']\n",
    "\n",
    "X_train_1, X_test_1, Y_train_1, Y_test_1 = train_test_split(X_1, Y_1, test_size=0.3, random_state = 1234)"
   ]
  },
  {
   "cell_type": "code",
   "execution_count": 17,
   "id": "confidential-childhood",
   "metadata": {},
   "outputs": [],
   "source": [
    "from sklearn.linear_model import LinearRegression\n",
    "from sklearn.ensemble import RandomForestRegressor\n",
    "from xgboost import XGBRegressor\n",
    "from sklearn.svm import SVR\n"
   ]
  },
  {
   "cell_type": "code",
   "execution_count": 18,
   "id": "sweet-lodge",
   "metadata": {},
   "outputs": [],
   "source": [
    "from sklearn.preprocessing import MinMaxScaler\n",
    "\n",
    "training_pipeline = make_pipeline(\n",
    "        transform_col,\n",
    "        MinMaxScaler())\n",
    "training_pipeline.fit(data_train_1)\n",
    "data_train_1 = pd.DataFrame(training_pipeline.transform(data_train_1), columns = data_train_1.columns.drop('Type'))"
   ]
  },
  {
   "cell_type": "code",
   "execution_count": 19,
   "id": "historic-surface",
   "metadata": {},
   "outputs": [
    {
     "name": "stdout",
     "output_type": "stream",
     "text": [
      "RMSE: 0.1522116164931928 0.1518434061663451\n",
      "MAE: 0.1152951980053944 0.11482285916366827\n",
      "mean_absolute_percentage_error: 202.06393384316178 207.48673309427096\n"
     ]
    }
   ],
   "source": [
    "kfold = KFold(n_splits=3)\n",
    "\n",
    "training_pipeline = make_pipeline(\n",
    "        transform_col,\n",
    "        LinearRegression())\n",
    "\n",
    "predict = cross_val_predict(training_pipeline, X_train_1, Y_train_1, cv = kfold)\n",
    "\n",
    "training_pipeline.fit(X_train_1, Y_train_1)\n",
    "predict_test = training_pipeline.predict(X_test_1)\n",
    "\n",
    "metrics(Y_train_1, predict, Y_test_1, predict_test)"
   ]
  },
  {
   "cell_type": "code",
   "execution_count": 20,
   "id": "hollywood-alert",
   "metadata": {},
   "outputs": [
    {
     "name": "stdout",
     "output_type": "stream",
     "text": [
      "RMSE: 2.903400611784494e-15 4.869406803626278e-15\n",
      "MAE: 2.0747540666741834e-15 3.383225622235004e-15\n",
      "mean_absolute_percentage_error: 5.2524679701199955e-15 8.76437120092119e-15\n"
     ]
    }
   ],
   "source": [
    "training_pipeline = make_pipeline(\n",
    "        transform_col,\n",
    "        RandomForestRegressor(max_depth = 15))\n",
    "\n",
    "predict = cross_val_predict(training_pipeline, X_train_1, Y_train_1, cv = kfold)\n",
    "\n",
    "training_pipeline.fit(X_train_1, Y_train_1)\n",
    "predict_test = training_pipeline.predict(X_test_1)\n",
    "\n",
    "metrics(Y_train_1, predict, Y_test_1, predict_test)"
   ]
  },
  {
   "cell_type": "code",
   "execution_count": null,
   "id": "authorized-stock",
   "metadata": {
    "tags": []
   },
   "outputs": [],
   "source": [
    "training_pipeline = make_pipeline(\n",
    "        transform_col,\n",
    "        SVR())\n",
    "\n",
    "training_pipeline.fit(X_train_1, Y_train_1)\n",
    "predict_test = training_pipeline.predict(X_test_1)\n",
    "\n",
    "metrics(Y_train_1, predict, Y_test_1, predict_test)"
   ]
  },
  {
   "cell_type": "code",
   "execution_count": 25,
   "id": "hundred-criterion",
   "metadata": {},
   "outputs": [
    {
     "name": "stdout",
     "output_type": "stream",
     "text": [
      "RMSE: 0.00011831593111137943 0.00022759360673028022\n",
      "MAE: 7.912328304200618e-05 0.00012537186234380844\n",
      "mean_absolute_percentage_error: 0.03674539659608557 0.11621491772507969\n"
     ]
    }
   ],
   "source": [
    "kfold = KFold(n_splits=3)\n",
    "training_pipeline = make_pipeline(\n",
    "        transform_col,\n",
    "        XGBRegressor())\n",
    "predict = cross_val_predict(training_pipeline, X_train_1, Y_train_1, cv = kfold)\n",
    "training_pipeline.fit(X_train_1, Y_train_1)\n",
    "predict_test = training_pipeline.predict(X_test_1)\n",
    "\n",
    "metrics(Y_train_1, predict, Y_test_1, predict_test)"
   ]
  },
  {
   "cell_type": "markdown",
   "id": "equivalent-establishment",
   "metadata": {},
   "source": [
    "Data 2"
   ]
  },
  {
   "cell_type": "code",
   "execution_count": 22,
   "id": "fresh-football",
   "metadata": {},
   "outputs": [],
   "source": [
    "X_2 = data_train_2.drop(['Sales', 'Date'], axis=1)\n",
    "Y_2 = data_train_2['Sales']\n",
    "\n",
    "X_train_2, X_test_2, Y_train_2, Y_test_2 = train_test_split(X_2, np.log(Y_2 + 1), test_size=0.3, random_state = 1234)"
   ]
  },
  {
   "cell_type": "code",
   "execution_count": 23,
   "id": "middle-queensland",
   "metadata": {},
   "outputs": [
    {
     "name": "stdout",
     "output_type": "stream",
     "text": [
      "RMSE: 0.22648730064233158 0.22512406830216766\n",
      "MAE: 0.15828321142096985 0.15825889901497503\n",
      "mean_absolute_percentage_error: 1285.7131245890714 1285.9855630288778\n"
     ]
    }
   ],
   "source": [
    "predict = cross_val_predict(LinearRegression(), X_train_2, Y_train_2, cv = kfold)\n",
    "\n",
    "model = LinearRegression().fit(X_train_2, Y_train_2)\n",
    "predict_test = model.predict(X_test_2)\n",
    "\n",
    "metrics(Y_train_2, predict, Y_test_2, predict_test)"
   ]
  },
  {
   "cell_type": "code",
   "execution_count": 24,
   "id": "posted-gibraltar",
   "metadata": {},
   "outputs": [
    {
     "name": "stdout",
     "output_type": "stream",
     "text": [
      "RMSE: 0.0862712616834407 0.08626336097210194\n",
      "MAE: 0.059411248884506634 0.0594287795188045\n",
      "mean_absolute_percentage_error: 0.00681063087839655 0.3222279662334975\n"
     ]
    }
   ],
   "source": [
    "predict = cross_val_predict(RandomForestRegressor(max_depth = 15), X_train_2, Y_train_2, cv = kfold)\n",
    "\n",
    "model = RandomForestRegressor(max_depth = 15).fit(X_train_2, Y_train_2)\n",
    "predict_test = model.predict(X_test_2)\n",
    "\n",
    "metrics(Y_train_2, predict, Y_test_2, predict_test)"
   ]
  },
  {
   "cell_type": "code",
   "execution_count": null,
   "id": "indian-cornell",
   "metadata": {},
   "outputs": [],
   "source": [
    "predict = cross_val_predict(SVR(), X_train_2, Y_train_2, cv = kfold)\n",
    "\n",
    "model = SVR().fit(X_train_2, Y_train_2)\n",
    "predict_test = model.predict(X_test_2)\n",
    "\n",
    "metrics(Y_train_2, predict, Y_test_2, predict_test)"
   ]
  },
  {
   "cell_type": "code",
   "execution_count": 26,
   "id": "appropriate-warning",
   "metadata": {},
   "outputs": [
    {
     "name": "stdout",
     "output_type": "stream",
     "text": [
      "RMSE: 0.06940103513484006 0.06964363072213463\n",
      "MAE: 0.0513385642903535 0.05155224380551271\n",
      "mean_absolute_percentage_error: 381.6084973966224 372.14651949611334\n"
     ]
    }
   ],
   "source": [
    "predict = cross_val_predict(XGBRegressor(), X_train_2, Y_train_2, cv = kfold)\n",
    "\n",
    "model = XGBRegressor().fit(X_train_2, Y_train_2)\n",
    "predict_test = model.predict(X_test_2)\n",
    "\n",
    "metrics(Y_train_2, predict, Y_test_2, predict_test)"
   ]
  },
  {
   "cell_type": "markdown",
   "id": "collectible-thriller",
   "metadata": {},
   "source": [
    "Data 3"
   ]
  },
  {
   "cell_type": "code",
   "execution_count": 27,
   "id": "second-lender",
   "metadata": {},
   "outputs": [],
   "source": [
    "data_3 = data_3.drop(['Date'], axis=1)\n",
    "mms = MinMaxScaler().fit(data_3)\n",
    "data_3 = pd.DataFrame(mms.transform(data_3), columns = data_3.columns)\n",
    "X_3 = data_3.drop(['Revenue'], axis=1)\n",
    "Y_3 = data_3['Revenue']\n",
    "\n",
    "X_train_3, X_test_3, Y_train_3, Y_test_3 = train_test_split(X_3, Y_3, test_size=0.3, random_state = 1234)"
   ]
  },
  {
   "cell_type": "code",
   "execution_count": 28,
   "id": "integrated-lewis",
   "metadata": {},
   "outputs": [
    {
     "name": "stdout",
     "output_type": "stream",
     "text": [
      "RMSE: 0.043102581417280524 0.04497750711458011\n",
      "MAE: 0.02627299010353919 0.02689881339896431\n",
      "mean_absolute_percentage_error: 373.04771523127124 361.2809190086209\n"
     ]
    }
   ],
   "source": [
    "predict = cross_val_predict(LinearRegression(), X_train_3, Y_train_3, cv = kfold)\n",
    "\n",
    "model = LinearRegression().fit(X_train_3, Y_train_3)\n",
    "predict_test = model.predict(X_test_3)\n",
    "\n",
    "metrics(Y_train_3, predict, Y_test_3, predict_test)"
   ]
  },
  {
   "cell_type": "code",
   "execution_count": 29,
   "id": "about-amazon",
   "metadata": {},
   "outputs": [
    {
     "name": "stdout",
     "output_type": "stream",
     "text": [
      "RMSE: 0.02655181554716873 0.01737285127495567\n",
      "MAE: 0.00969379919612044 0.0068131774876941725\n",
      "mean_absolute_percentage_error: 0.051406745210288006 0.03895126972108617\n"
     ]
    }
   ],
   "source": [
    "predict = cross_val_predict(RandomForestRegressor(max_depth = 15), X_train_3, Y_train_3, cv = kfold)\n",
    "\n",
    "model = RandomForestRegressor(max_depth = 8).fit(X_train_3, Y_train_3)\n",
    "predict_test = model.predict(X_test_3)\n",
    "\n",
    "metrics(Y_train_3, predict, Y_test_3, predict_test)"
   ]
  },
  {
   "cell_type": "code",
   "execution_count": 30,
   "id": "computational-dance",
   "metadata": {},
   "outputs": [
    {
     "name": "stdout",
     "output_type": "stream",
     "text": [
      "RMSE: 0.057058120715440024 0.05493463840057541\n",
      "MAE: 0.0451510133661147 0.046364892961842305\n",
      "mean_absolute_percentage_error: 1144.937121766505 1075.8461009757305\n"
     ]
    }
   ],
   "source": [
    "predict = cross_val_predict(SVR(), X_train_3, Y_train_3, cv = kfold)\n",
    "\n",
    "model = SVR().fit(X_train_3, Y_train_3)\n",
    "predict_test = model.predict(X_test_3)\n",
    "\n",
    "metrics(Y_train_3, predict, Y_test_3, predict_test)"
   ]
  },
  {
   "cell_type": "code",
   "execution_count": 31,
   "id": "logical-friendship",
   "metadata": {},
   "outputs": [
    {
     "ename": "NameError",
     "evalue": "name 'LGBMRegressor' is not defined",
     "output_type": "error",
     "traceback": [
      "\u001b[1;31m---------------------------------------------------------------------------\u001b[0m",
      "\u001b[1;31mNameError\u001b[0m                                 Traceback (most recent call last)",
      "\u001b[1;32m<ipython-input-31-9e97f84e6854>\u001b[0m in \u001b[0;36m<module>\u001b[1;34m\u001b[0m\n\u001b[1;32m----> 1\u001b[1;33m \u001b[0mpredict\u001b[0m \u001b[1;33m=\u001b[0m \u001b[0mcross_val_predict\u001b[0m\u001b[1;33m(\u001b[0m\u001b[0mLGBMRegressor\u001b[0m\u001b[1;33m(\u001b[0m\u001b[1;33m)\u001b[0m\u001b[1;33m,\u001b[0m \u001b[0mX_train_3\u001b[0m\u001b[1;33m,\u001b[0m \u001b[0mY_train_3\u001b[0m\u001b[1;33m,\u001b[0m \u001b[0mcv\u001b[0m \u001b[1;33m=\u001b[0m \u001b[0mkfold\u001b[0m\u001b[1;33m)\u001b[0m\u001b[1;33m\u001b[0m\u001b[1;33m\u001b[0m\u001b[0m\n\u001b[0m\u001b[0;32m      2\u001b[0m \u001b[1;33m\u001b[0m\u001b[0m\n\u001b[0;32m      3\u001b[0m \u001b[0mmodel\u001b[0m \u001b[1;33m=\u001b[0m \u001b[0mLGBMRegressor\u001b[0m\u001b[1;33m(\u001b[0m\u001b[1;33m)\u001b[0m\u001b[1;33m.\u001b[0m\u001b[0mfit\u001b[0m\u001b[1;33m(\u001b[0m\u001b[0mX_train_3\u001b[0m\u001b[1;33m,\u001b[0m \u001b[0mY_train_3\u001b[0m\u001b[1;33m)\u001b[0m\u001b[1;33m\u001b[0m\u001b[1;33m\u001b[0m\u001b[0m\n\u001b[0;32m      4\u001b[0m \u001b[0mpredict_test\u001b[0m \u001b[1;33m=\u001b[0m \u001b[0mmodel\u001b[0m\u001b[1;33m.\u001b[0m\u001b[0mpredict\u001b[0m\u001b[1;33m(\u001b[0m\u001b[0mX_test_3\u001b[0m\u001b[1;33m)\u001b[0m\u001b[1;33m\u001b[0m\u001b[1;33m\u001b[0m\u001b[0m\n\u001b[0;32m      5\u001b[0m \u001b[1;33m\u001b[0m\u001b[0m\n",
      "\u001b[1;31mNameError\u001b[0m: name 'LGBMRegressor' is not defined"
     ]
    }
   ],
   "source": [
    "predict = cross_val_predict(LGBMRegressor(), X_train_3, Y_train_3, cv = kfold)\n",
    "\n",
    "model = LGBMRegressor().fit(X_train_3, Y_train_3)\n",
    "predict_test = model.predict(X_test_3)\n",
    "\n",
    "metrics(Y_train_3, predict, Y_test_3, predict_test)"
   ]
  },
  {
   "cell_type": "code",
   "execution_count": 32,
   "id": "future-adventure",
   "metadata": {},
   "outputs": [
    {
     "name": "stdout",
     "output_type": "stream",
     "text": [
      "RMSE: 0.026796847414661557 0.016106070129764782\n",
      "MAE: 0.008625554338459896 0.005382682483445303\n",
      "mean_absolute_percentage_error: 3.0765041263169572 1.332116375346034\n"
     ]
    }
   ],
   "source": [
    "predict = cross_val_predict(XGBRegressor(), X_train_3, Y_train_3, cv = kfold)\n",
    "\n",
    "model = XGBRegressor().fit(X_train_3, Y_train_3)\n",
    "predict_test = model.predict(X_test_3)\n",
    "\n",
    "metrics(Y_train_3, predict, Y_test_3, predict_test)"
   ]
  },
  {
   "cell_type": "code",
   "execution_count": null,
   "id": "detected-mozambique",
   "metadata": {},
   "outputs": [],
   "source": []
  }
 ],
 "metadata": {
  "kernelspec": {
   "display_name": "Python 3",
   "language": "python",
   "name": "python3"
  },
  "language_info": {
   "codemirror_mode": {
    "name": "ipython",
    "version": 3
   },
   "file_extension": ".py",
   "mimetype": "text/x-python",
   "name": "python",
   "nbconvert_exporter": "python",
   "pygments_lexer": "ipython3",
   "version": "3.7.6"
  }
 },
 "nbformat": 4,
 "nbformat_minor": 5
}
