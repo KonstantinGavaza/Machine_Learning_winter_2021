{
 "cells": [
  {
   "cell_type": "markdown",
   "metadata": {
    "id": "B5dMbf5hujNz"
   },
   "source": [
    "# Clustering\n",
    "\n"
   ]
  },
  {
   "cell_type": "markdown",
   "metadata": {
    "id": "YGVQdZfrujN2"
   },
   "source": []
  },
  {
   "cell_type": "code",
   "execution_count": 7,
   "metadata": {
    "colab": {
     "base_uri": "https://localhost:8080/",
     "height": 645
    },
    "id": "x5opGAJqu4Je",
    "outputId": "00da0898-c5b0-4070-fc19-77058df2a137"
   },
   "outputs": [
    {
     "ename": "ModuleNotFoundError",
     "evalue": "No module named 'google.colab'",
     "output_type": "error",
     "traceback": [
      "\u001b[1;31m---------------------------------------------------------------------------\u001b[0m",
      "\u001b[1;31mModuleNotFoundError\u001b[0m                       Traceback (most recent call last)",
      "\u001b[1;32m<ipython-input-7-0c86549d13ff>\u001b[0m in \u001b[0;36m<module>\u001b[1;34m\u001b[0m\n\u001b[1;32m----> 1\u001b[1;33m \u001b[1;32mfrom\u001b[0m \u001b[0mgoogle\u001b[0m\u001b[1;33m.\u001b[0m\u001b[0mcolab\u001b[0m \u001b[1;32mimport\u001b[0m \u001b[0mdrive\u001b[0m\u001b[1;33m\u001b[0m\u001b[1;33m\u001b[0m\u001b[0m\n\u001b[0m\u001b[0;32m      2\u001b[0m \u001b[0mdrive\u001b[0m\u001b[1;33m.\u001b[0m\u001b[0mmount\u001b[0m\u001b[1;33m(\u001b[0m\u001b[1;34m'/content/drive/'\u001b[0m\u001b[1;33m)\u001b[0m\u001b[1;33m\u001b[0m\u001b[1;33m\u001b[0m\u001b[0m\n\u001b[0;32m      3\u001b[0m \u001b[1;32mimport\u001b[0m \u001b[0mmatplotlib\u001b[0m\u001b[1;33m.\u001b[0m\u001b[0mimage\u001b[0m \u001b[1;32mas\u001b[0m \u001b[0mmpimg\u001b[0m\u001b[1;33m\u001b[0m\u001b[1;33m\u001b[0m\u001b[0m\n\u001b[0;32m      4\u001b[0m \u001b[1;32mimport\u001b[0m \u001b[0mmatplotlib\u001b[0m\u001b[1;33m.\u001b[0m\u001b[0mpyplot\u001b[0m \u001b[1;32mas\u001b[0m \u001b[0mplt\u001b[0m\u001b[1;33m\u001b[0m\u001b[1;33m\u001b[0m\u001b[0m\n\u001b[0;32m      5\u001b[0m \u001b[0mimg\u001b[0m \u001b[1;33m=\u001b[0m \u001b[0mmpimg\u001b[0m\u001b[1;33m.\u001b[0m\u001b[0mimread\u001b[0m\u001b[1;33m(\u001b[0m\u001b[1;34m'/content/drive/My Drive/digits_cluster.png'\u001b[0m\u001b[1;33m)\u001b[0m\u001b[1;33m\u001b[0m\u001b[1;33m\u001b[0m\u001b[0m\n",
      "\u001b[1;31mModuleNotFoundError\u001b[0m: No module named 'google.colab'"
     ]
    }
   ],
   "source": [
    "from google.colab import drive\n",
    "drive.mount('/content/drive/')\n",
    "import matplotlib.image as mpimg\n",
    "import matplotlib.pyplot as plt\n",
    "img = mpimg.imread('/content/drive/My Drive/digits_cluster.png')\n",
    "plt.figure(figsize = (10,20))\n",
    "plt.imshow(img)"
   ]
  },
  {
   "cell_type": "markdown",
   "metadata": {
    "id": "iqtm2Q07ujN3"
   },
   "source": [
    "### 1. Metrics in multidimensional space. In-cluster distance\n",
    "\n",
    "##### 1. Nearest distance\n",
    "- distance between the two closest objects (nearest neighbors) in different clusters;\n",
    "\n",
    "##### 2. Full distance\n",
    "- the greatest distance between any two objects in different clusters (i.e. the most distant neighbors);\n",
    "\n",
    "##### 3. Weighted/Non-weighted paired average\n",
    "- average distance between all pairs of objects in clusters;\n",
    "\n",
    "##### 4. Weighted/Non-weighted centroid median\n",
    "- average distance between all pairs of objects in clusters with weights depending on the size of the cluster;\n",
    "\n",
    "https://habr.com/ru/post/101338/\n"
   ]
  },
  {
   "cell_type": "markdown",
   "metadata": {
    "id": "TxeHbIpGujN4"
   },
   "source": [
    "### 2. Intercluster Distances:\n",
    "\n",
    "\n",
    "The distance from $x = (x_{1}, \\dots, x_{n})$ to $x' = (x'_{1}, \\dots, x'_{n})$ $\\in$ $\\mathbb{R}^{n}$ is\n",
    "\n",
    "$$\n",
    "D(x,x^{'}) = \\left( \\sum_{i=1}^n \\left| x_{i} - x'_{i} \\right|^{q} \\right)^{p},\n",
    "$$\n",
    "\n",
    "For p = 1, q=1 we get the taxicab norm, for p = 1/2, q=2 we get the Euclidean norm\n",
    "\n",
    "The higher the power p the more metric penalizes the outliers."
   ]
  },
  {
   "cell_type": "markdown",
   "metadata": {
    "id": "GY1wxOUvujN5"
   },
   "source": [
    "### Classification of algorithms:\n",
    "\n",
    "\n",
    "##### A. Hierarchical and flat.\n",
    "Hierarchical algorithms (or taxonomy algorithms) build a system of nested partitions. So at the output we get a cluster tree, the _root_ of the tree is the entire sample, the _leaves_ are the smallest clusters.\n",
    "Flat algorithms build one partition of objects into clusters.\n",
    "\n",
    "##### B. Clear and shuffled.\n",
    "Clear (or non-shuffled) algorithms assign a cluster number for each sample object, i.e. each object belongs to only one cluster. Shuffle algorithms associate a set of real values for each object, indicating the probability of the object's relation to the clusters. Each object belongs to each cluster with a certain probability."
   ]
  },
  {
   "cell_type": "code",
   "execution_count": null,
   "metadata": {
    "colab": {
     "base_uri": "https://localhost:8080/",
     "height": 731
    },
    "id": "h7X84ZpJvvQF",
    "outputId": "3a3685f5-f540-4bfd-a1fe-65bc7c6467d6"
   },
   "outputs": [],
   "source": [
    "img = mpimg.imread('/content/drive/My Drive/Clusters.png')\n",
    "plt.figure(figsize = (20,20))\n",
    "plt.imshow(img)"
   ]
  },
  {
   "cell_type": "code",
   "execution_count": null,
   "metadata": {
    "colab": {
     "base_uri": "https://localhost:8080/",
     "height": 613
    },
    "id": "BsTjahTiv2XL",
    "outputId": "df7c349e-3017-42ba-c570-b2d0c12e8b37"
   },
   "outputs": [],
   "source": [
    "img = mpimg.imread('/content/drive/My Drive/Table.png')\n",
    "plt.figure(figsize = (15,15))\n",
    "plt.imshow(img)"
   ]
  },
  {
   "cell_type": "markdown",
   "metadata": {
    "id": "dkmR8COzujN-"
   },
   "source": [
    "https://scikit-learn.org/stable/modules/clustering.html"
   ]
  },
  {
   "cell_type": "markdown",
   "metadata": {
    "id": "B1G8aPiKujN_"
   },
   "source": [
    "## Data\n",
    "\n",
    "https://scikit-learn.org/stable/modules/generated/sklearn.datasets.fetch_20newsgroups.html"
   ]
  },
  {
   "cell_type": "code",
   "execution_count": 8,
   "metadata": {
    "colab": {
     "base_uri": "https://localhost:8080/"
    },
    "id": "VTCoDrjSujOA",
    "outputId": "b9f0eb30-1807-4670-d95b-35f6deb32fbb"
   },
   "outputs": [
    {
     "name": "stderr",
     "output_type": "stream",
     "text": [
      "Downloading 20news dataset. This may take a few minutes.\n",
      "Downloading dataset from https://ndownloader.figshare.com/files/5975967 (14 MB)\n"
     ]
    },
    {
     "name": "stdout",
     "output_type": "stream",
     "text": [
      "['alt.atheism', 'comp.graphics', 'comp.os.ms-windows.misc', 'comp.sys.ibm.pc.hardware', 'comp.sys.mac.hardware', 'comp.windows.x', 'misc.forsale', 'rec.autos', 'rec.motorcycles', 'rec.sport.baseball', 'rec.sport.hockey', 'sci.crypt', 'sci.electronics', 'sci.med', 'sci.space', 'soc.religion.christian', 'talk.politics.guns', 'talk.politics.mideast', 'talk.politics.misc', 'talk.religion.misc']\n"
     ]
    }
   ],
   "source": [
    "# texts and messages from different topics\n",
    "\n",
    "from sklearn.datasets import fetch_20newsgroups\n",
    "\n",
    "train_all = fetch_20newsgroups(subset='train')\n",
    "# print topic names\n",
    "print (train_all.target_names)"
   ]
  },
  {
   "cell_type": "code",
   "execution_count": 9,
   "metadata": {
    "id": "fkjbz5EPujOE"
   },
   "outputs": [],
   "source": [
    "# let's have 3 VERY different topics\n",
    "new_dataset = fetch_20newsgroups(\n",
    "    subset='train', \n",
    "    categories=['comp.sys.mac.hardware', 'soc.religion.christian', 'rec.sport.hockey'])"
   ]
  },
  {
   "cell_type": "code",
   "execution_count": 10,
   "metadata": {
    "colab": {
     "base_uri": "https://localhost:8080/"
    },
    "id": "ieTMQ6BZujOH",
    "outputId": "995fec79-6172-4e93-89bb-6ed2a96dbdd4"
   },
   "outputs": [
    {
     "name": "stdout",
     "output_type": "stream",
     "text": [
      "From: generous@nova.sti.nasa.gov (Curtis Generous)\n",
      "Subject: Apple Tape backup 40SC under System 7.x\n",
      "Keywords: backup, tape,\n",
      "Organization: NASA STI\n",
      "Lines: 12\n",
      "\n",
      "\n",
      "I need to get an Apple 40SC tape backup unit working under\n",
      "Sys 7.0.x, but do not have any drivers/software to access\n",
      "the device.  Does anyone know where I can fidn the tools\n",
      "to access this device?\n",
      "\n",
      "Appreciate any info/comments.\n",
      "\n",
      "--curtis\n",
      "-- \n",
      "Curtis C. Generous\tgenerous@sti.nasa.gov\t\t(703) 685-1140\n",
      "NASA STI, Code JTT, Washington, DC 20546\n",
      "\n"
     ]
    }
   ],
   "source": [
    "print (new_dataset.data[100])"
   ]
  },
  {
   "cell_type": "code",
   "execution_count": 11,
   "metadata": {
    "colab": {
     "base_uri": "https://localhost:8080/"
    },
    "id": "r1ahcS4GujOL",
    "outputId": "5762bb03-458a-41cb-9ba7-d291e967ee87"
   },
   "outputs": [
    {
     "name": "stdout",
     "output_type": "stream",
     "text": [
      "[0 0 1 ... 0 1 2]\n",
      "(array([0, 1, 2], dtype=int64), array([578, 600, 599], dtype=int64))\n"
     ]
    }
   ],
   "source": [
    "# labels\n",
    "import numpy as np\n",
    "print(new_dataset.target)\n",
    "print(np.unique(new_dataset.target,return_counts=True))"
   ]
  },
  {
   "cell_type": "code",
   "execution_count": 12,
   "metadata": {
    "colab": {
     "base_uri": "https://localhost:8080/"
    },
    "id": "E5nrZgi5ujON",
    "outputId": "6f069817-bc63-4ead-cbf1-d2d3e9aa1219"
   },
   "outputs": [
    {
     "name": "stdout",
     "output_type": "stream",
     "text": [
      "From: scialdone@nssdca.gsfc.nasa.gov (John Scialdone)\n",
      "Subject: CUT Vukota and Pilon!!!\n",
      "News-Software: VAX/VMS VNEWS 1.41    \n",
      "Organization: NASA - Goddard Space Flight Center\n",
      "Lines: 32\n",
      "\n",
      "I have been to all 3 Isles/Caps tilts at the Crap Centre this year, all Isles\n",
      "wins and there is no justification for Vukota and Pilon to play for the Isles.\n",
      "Vukota is absolutely the worst puck handler in the world!! He couldn't hit a\n",
      "bull in the ass with a banjo!! Al must remember a few years back when Mick \n",
      "scored 3 goals in one period against the Caps in a 5-3 Isles win. I was there\n",
      "and was astonished as was the rest of the crowd. Wake-up Al!!! Years later he's\n",
      "gotten worse. He's a cheap shot artist and always ends up getting\n",
      "stupid/senseless penalties. I think he would make a good police officier!!!\n",
      "\n",
      "As for Pilon, he can't carry the puck out to center ice by himself. He either\n",
      "makes a bad pass resulting in a turnover, or he attempts to bring the puck \n",
      "towards the neutral zone and skates right into an opposing skater. He can't\n",
      "stay on his skates with most forwards or centers. He either falls down or \n",
      "committs a penalty. Call up somebody from Capital District AL!!!!!\n",
      "\n",
      "As far as the playoffs, the Isles are as difficult to figure out as the Caps.\n",
      "Two good teams with talent but so inconsistent. They should meet in the first\n",
      "round. The Isles seem to play up to the level of their competition so they\n",
      "should play well against Jersey tonite. It'll probably be another tight 1-goal\n",
      "game as the last 20 games hve been for the Isles. I wish when the get a lead\n",
      "they could continue to pour it on instead of settling back into a defensive\n",
      "shell and letting the opposition get back in the game. Al MUST understand he\n",
      "can't do with this team what he did with the 80-83 Isles. maybe Al should got\n",
      "to. Where is Bobby Nystrom?? Clark Gilles?? John Tonelli?? These are the kind\n",
      "of young minds we need behing the bench!!    FIRE AL!!!!\n",
      "\n",
      "John Scialdone\n",
      "SCIALDONE@NSSDCA.GSFC.NASA.GOV\n",
      "\n",
      "**********When your ship comes in, first man takes the Sail********************\n",
      "\n",
      "\n",
      "\n"
     ]
    }
   ],
   "source": [
    "print (new_dataset.data[-2])"
   ]
  },
  {
   "cell_type": "code",
   "execution_count": 13,
   "metadata": {
    "colab": {
     "base_uri": "https://localhost:8080/"
    },
    "id": "VprIhlLmujOQ",
    "outputId": "f6705c06-a3d7-4869-dc58-590aa00a31d5"
   },
   "outputs": [
    {
     "name": "stdout",
     "output_type": "stream",
     "text": [
      "1777\n"
     ]
    }
   ],
   "source": [
    "# number of entries\n",
    "print (len(new_dataset.data))"
   ]
  },
  {
   "cell_type": "markdown",
   "metadata": {
    "id": "h5Sw44O_ujOT"
   },
   "source": [
    "## Features"
   ]
  },
  {
   "cell_type": "code",
   "execution_count": 14,
   "metadata": {
    "id": "YID8_o_XujOU"
   },
   "outputs": [],
   "source": [
    "# let's create word-vectorizing matrix\n",
    "from sklearn.feature_extraction.text import CountVectorizer, TfidfVectorizer\n",
    "\n",
    "# create vector embeddings for words with frequencies (> 10) and (< 500) in all dataset\n",
    "# 10 and 500 - may try different frequencies\n",
    "#vectorizer = CountVectorizer(max_df=500, min_df=10)\n",
    "vectorizer = TfidfVectorizer(max_df=500, min_df=10)  # weighted word matrix \n",
    "\n",
    "matrix = vectorizer.fit_transform(new_dataset.data)"
   ]
  },
  {
   "cell_type": "code",
   "execution_count": 15,
   "metadata": {
    "colab": {
     "base_uri": "https://localhost:8080/"
    },
    "id": "lQiKhN05ujOX",
    "outputId": "8088bc52-810c-4d61-8b61-305a29282110"
   },
   "outputs": [
    {
     "name": "stdout",
     "output_type": "stream",
     "text": [
      "  (0, 877)\t0.111806579628099\n",
      "  (0, 880)\t0.11851815596020333\n",
      "  (0, 2243)\t0.0925317447411647\n",
      "  (0, 1136)\t0.05005067187805151\n",
      "  (0, 2358)\t0.08407975300726757\n",
      "  (0, 2820)\t0.10804290934262964\n",
      "  (0, 2108)\t0.12357635170024023\n",
      "  (0, 3035)\t0.10154477899829953\n",
      "  (0, 1229)\t0.07360450638969387\n",
      "  (0, 3262)\t0.13021297950442332\n",
      "  (0, 1366)\t0.0836339497399446\n",
      "  (0, 3305)\t0.06783179408623191\n",
      "  (0, 551)\t0.09781400308186793\n",
      "  (0, 1961)\t0.22885999498507148\n",
      "  (0, 619)\t0.1704733433340938\n",
      "  (0, 294)\t0.051771062722228284\n",
      "  (0, 3322)\t0.09538902048354801\n",
      "  (0, 2325)\t0.05419206470797136\n",
      "  (0, 620)\t0.111806579628099\n",
      "  (0, 1831)\t0.1250526461821779\n",
      "  (0, 3285)\t0.11264581593118288\n",
      "  (0, 2422)\t0.09427236106959616\n",
      "  (0, 301)\t0.05563256696046784\n",
      "  (0, 855)\t0.20162554088271675\n",
      "  (0, 2868)\t0.08596208970791507\n",
      "  :\t:\n",
      "  (1776, 2582)\t0.05609109765839554\n",
      "  (1776, 3688)\t0.050520649858871766\n",
      "  (1776, 1392)\t0.05585170073485205\n",
      "  (1776, 2517)\t0.13350627179343605\n",
      "  (1776, 331)\t0.055151655839178956\n",
      "  (1776, 3383)\t0.047167135811762045\n",
      "  (1776, 1546)\t0.07475822115531608\n",
      "  (1776, 49)\t0.06189841382367305\n",
      "  (1776, 3221)\t0.06093294069009764\n",
      "  (1776, 73)\t0.06387310242109193\n",
      "  (1776, 2969)\t0.04844674789987779\n",
      "  (1776, 3556)\t0.05971974914326056\n",
      "  (1776, 3541)\t0.041875683237347264\n",
      "  (1776, 641)\t0.0670800547049184\n",
      "  (1776, 2283)\t0.058127468648152\n",
      "  (1776, 37)\t0.05768423264719652\n",
      "  (1776, 3757)\t0.0835295358048306\n",
      "  (1776, 1543)\t0.1919030692030578\n",
      "  (1776, 1337)\t0.0639961356823206\n",
      "  (1776, 2366)\t0.04721664702328082\n",
      "  (1776, 1416)\t0.09541408264136729\n",
      "  (1776, 2971)\t0.19125265998795346\n",
      "  (1776, 1136)\t0.04302325309312372\n",
      "  (1776, 1349)\t0.061570926170200144\n",
      "  (1776, 2096)\t0.10387719774851317\n"
     ]
    }
   ],
   "source": [
    "print(matrix)"
   ]
  },
  {
   "cell_type": "markdown",
   "metadata": {
    "id": "GKxH2huhujOt"
   },
   "source": [
    "## KMeans"
   ]
  },
  {
   "cell_type": "code",
   "execution_count": 16,
   "metadata": {
    "colab": {
     "base_uri": "https://localhost:8080/"
    },
    "id": "p-1i4v1TujOu",
    "outputId": "cf4f347a-c115-41b4-aca3-e30a16d12163"
   },
   "outputs": [
    {
     "name": "stdout",
     "output_type": "stream",
     "text": [
      "[2, 2, 1, 0, 1, 2, 2, 2, 0, 2, 1, 2, 1, 2, 1, 2, 2, 0, 2, 1, 1, 1, 2, 2, 2, 0, 0, 0, 0, 2, 1, 0, 2, 1, 2, 1, 2, 1, 1, 2, 1, 1, 2, 0, 1, 1, 1, 1, 0, 1, 2, 2, 0, 1, 1, 0, 1, 0, 0, 2, 0, 2, 2, 1, 1, 2, 1, 2, 2, 1, 2, 0, 2, 2, 0, 0, 2, 1, 2, 2, 2, 2, 0, 1, 1, 2, 2, 2, 2, 0, 0, 1, 0, 1, 2, 2, 0, 0, 0, 0, 2, 1, 2, 2, 2, 1, 0, 1, 1, 2, 2, 0, 1, 2, 2, 0, 2, 0, 1, 1, 2, 0, 2, 0, 1, 0, 1, 0, 0, 2, 0, 0, 1, 2, 2, 1, 0, 0, 2, 2, 2, 2, 2, 2, 0, 0, 0, 1, 0, 0, 0, 1, 2, 1, 1, 2, 2, 1, 1, 0, 0, 0, 1, 2, 1, 2, 0, 1, 0, 1, 1, 1, 0, 0, 1, 1, 0, 1, 0, 2, 1, 0, 1, 1, 0, 2, 2, 1, 0, 1, 2, 0, 2, 2, 2, 2, 1, 1, 2, 2, 2, 2, 2, 0, 0, 0, 0, 1, 2, 1, 1, 0, 1, 2, 2, 2, 1, 2, 1, 1, 0, 0, 1, 1, 2, 2, 0, 1, 1, 1, 2, 2, 0, 2, 0, 0, 1, 1, 0, 0, 1, 0, 2, 0, 0, 2, 1, 2, 1, 0, 1, 0, 1, 0, 2, 2, 1, 2, 1, 1, 0, 2, 1, 0, 2, 1, 2, 2, 2, 0, 2, 2, 2, 0, 2, 1, 0, 0, 1, 0, 0, 0, 1, 1, 0, 0, 0, 2, 1, 1, 2, 1, 0, 2, 1, 0, 2, 1, 0, 2, 1, 0, 0, 0, 2, 0, 0, 1, 2, 2, 0, 2, 1, 1, 1, 1, 1, 0, 0, 1, 2, 2, 0, 2, 0, 0, 0, 0, 2, 1, 1, 0, 0, 1, 2, 2, 2, 2, 0, 0, 2, 1, 1, 2, 0, 1, 0, 2, 0, 0, 2, 2, 2, 0, 0, 0, 1, 2, 1, 1, 0, 1, 2, 0, 0, 0, 2, 1, 2, 2, 1, 1, 0, 1, 2, 0, 2, 1, 0, 2, 0, 0, 2, 1, 2, 2, 2, 0, 2, 2, 2, 0, 2, 1, 2, 2, 1, 2, 2, 1, 1, 0, 2, 0, 1, 2, 1, 0, 0, 2, 1, 2, 0, 2, 1, 0, 2, 2, 0, 2, 2, 0, 0, 1, 2, 2, 1, 0, 1, 1, 0, 2, 1, 2, 1, 1, 1, 1, 1, 0, 2, 2, 2, 0, 0, 1, 1, 2, 1, 1, 2, 2, 1, 2, 1, 1, 1, 2, 2, 2, 2, 1, 0, 1, 1, 0, 2, 2, 0, 0, 2, 2, 2, 0, 2, 0, 1, 0, 1, 2, 2, 1, 2, 1, 2, 2, 1, 2, 1, 2, 0, 2, 2, 2, 2, 0, 2, 1, 2, 1, 1, 2, 0, 1, 1, 1, 1, 2, 2, 2, 2, 0, 2, 1, 2, 1, 1, 1, 2, 2, 2, 2, 2, 2, 0, 0, 2, 2, 0, 1, 0, 2, 2, 1, 1, 0, 1, 0, 0, 0, 0, 0, 1, 1, 1, 2, 1, 1, 1, 1, 1, 2, 2, 0, 0, 2, 2, 0, 1, 0, 2, 1, 0, 2, 2, 2, 2, 2, 0, 1, 2, 2, 1, 2, 2, 0, 1, 0, 2, 2, 2, 2, 0, 0, 1, 1, 2, 0, 2, 2, 1, 2, 2, 0, 1, 2, 2, 1, 0, 0, 2, 0, 1, 0, 1, 0, 0, 0, 2, 2, 2, 0, 1, 2, 2, 2, 1, 2, 0, 2, 1, 0, 2, 0, 0, 2, 0, 1, 0, 1, 2, 0, 1, 1, 0, 0, 1, 2, 2, 2, 1, 2, 2, 2, 0, 1, 0, 2, 2, 0, 2, 0, 1, 2, 1, 1, 1, 1, 1, 2, 1, 1, 2, 2, 0, 1, 2, 0, 0, 0, 0, 1, 1, 1, 2, 1, 1, 1, 0, 1, 0, 2, 0, 2, 0, 2, 0, 1, 0, 2, 2, 2, 0, 1, 0, 2, 2, 1, 1, 1, 2, 0, 2, 0, 1, 1, 1, 1, 2, 1, 0, 2, 2, 0, 1, 0, 2, 0, 0, 1, 2, 1, 2, 2, 1, 0, 1, 2, 2, 2, 0, 1, 0, 1, 2, 2, 1, 2, 1, 1, 0, 1, 0, 1, 2, 1, 2, 1, 0, 1, 1, 1, 0, 1, 0, 1, 2, 1, 1, 2, 0, 1, 0, 2, 1, 0, 1, 2, 1, 0, 2, 2, 2, 0, 0, 0, 2, 0, 2, 1, 0, 0, 2, 1, 1, 0, 0, 0, 0, 1, 0, 1, 1, 0, 0, 2, 2, 2, 1, 0, 2, 1, 2, 0, 0, 0, 2, 2, 1, 2, 1, 1, 2, 2, 2, 2, 0, 1, 0, 0, 0, 0, 0, 2, 0, 2, 1, 1, 1, 1, 2, 2, 2, 2, 2, 2, 2, 1, 1, 2, 0, 0, 2, 1, 2, 1, 1, 1, 2, 1, 1, 1, 2, 2, 2, 0, 0, 1, 2, 2, 2, 2, 0, 2, 1, 1, 1, 0, 2, 0, 2, 2, 2, 1, 0, 2, 0, 2, 2, 2, 2, 2, 0, 1, 1, 0, 0, 2, 0, 1, 1, 0, 1, 2, 1, 0, 2, 2, 2, 0, 0, 2, 0, 2, 2, 0, 1, 2, 0, 0, 1, 2, 1, 2, 1, 1, 2, 2, 2, 2, 0, 1, 2, 2, 2, 0, 0, 1, 0, 0, 1, 0, 2, 0, 2, 2, 1, 2, 1, 2, 0, 0, 0, 1, 2, 1, 2, 2, 0, 0, 0, 0, 0, 2, 1, 0, 1, 0, 2, 1, 0, 1, 0, 0, 1, 2, 1, 1, 0, 1, 1, 0, 1, 2, 0, 2, 0, 0, 2, 2, 0, 1, 2, 2, 2, 2, 0, 0, 2, 0, 1, 0, 1, 2, 0, 2, 0, 2, 1, 1, 1, 0, 1, 0, 1, 1, 0, 2, 1, 2, 2, 1, 0, 2, 2, 2, 0, 0, 2, 1, 1, 2, 2, 2, 2, 0, 0, 2, 0, 1, 0, 2, 1, 2, 1, 1, 2, 2, 2, 2, 1, 1, 1, 0, 0, 0, 2, 0, 0, 1, 2, 0, 2, 2, 2, 1, 0, 0, 2, 1, 2, 1, 2, 0, 0, 2, 0, 2, 2, 2, 0, 1, 0, 1, 1, 1, 1, 1, 1, 2, 2, 2, 0, 0, 2, 1, 1, 0, 0, 2, 1, 0, 2, 0, 2, 1, 2, 2, 0, 2, 0, 1, 2, 1, 0, 1, 0, 1, 2, 0, 0, 0, 0, 1, 2, 2, 2, 0, 2, 1, 1, 1, 2, 2, 0, 1, 1, 1, 1, 0, 2, 0, 2, 1, 0, 0, 2, 0, 2, 0, 1, 2, 2, 0, 2, 1, 1, 2, 0, 1, 0, 1, 1, 0, 2, 1, 2, 0, 2, 0, 2, 2, 0, 1, 2, 0, 0, 0, 0, 2, 0, 2, 0, 1, 1, 0, 2, 2, 1, 1, 2, 2, 2, 1, 1, 1, 0, 2, 2, 2, 1, 2, 2, 2, 2, 2, 0, 0, 0, 2, 1, 2, 1, 2, 1, 1, 0, 2, 0, 1, 0, 1, 2, 2, 2, 1, 0, 2, 2, 1, 2, 1, 2, 1, 2, 2, 0, 1, 1, 1, 2, 0, 0, 1, 2, 1, 1, 2, 1, 2, 0, 0, 1, 1, 0, 2, 2, 0, 2, 0, 0, 1, 2, 1, 2, 2, 1, 0, 1, 1, 0, 2, 0, 2, 1, 1, 1, 0, 2, 1, 0, 0, 2, 1, 0, 2, 0, 1, 2, 2, 0, 1, 0, 0, 2, 1, 2, 2, 2, 1, 2, 1, 0, 0, 0, 0, 1, 2, 2, 2, 0, 2, 2, 0, 2, 1, 0, 0, 1, 2, 1, 1, 2, 1, 1, 2, 0, 2, 2, 2, 0, 2, 0, 1, 0, 0, 1, 2, 1, 2, 2, 0, 0, 1, 2, 0, 1, 2, 1, 0, 0, 1, 0, 0, 0, 0, 2, 1, 0, 1, 1, 2, 1, 2, 2, 1, 1, 0, 0, 0, 1, 1, 2, 2, 2, 2, 0, 1, 1, 0, 1, 1, 2, 0, 0, 2, 1, 2, 0, 0, 2, 0, 0, 1, 0, 0, 2, 2, 1, 0, 2, 0, 1, 1, 1, 1, 1, 1, 0, 2, 0, 1, 1, 2, 0, 0, 1, 0, 1, 2, 2, 1, 1, 0, 2, 2, 0, 1, 2, 1, 0, 2, 2, 0, 2, 2, 2, 2, 2, 1, 1, 2, 2, 2, 1, 2, 1, 1, 2, 0, 2, 2, 1, 1, 2, 1, 1, 2, 2, 1, 1, 2, 2, 2, 1, 0, 2, 2, 0, 2, 1, 2, 2, 0, 0, 2, 0, 2, 2, 1, 2, 1, 0, 2, 2, 1, 0, 1, 2, 1, 1, 0, 1, 0, 2, 2, 0, 1, 2, 1, 1, 1, 1, 1, 1, 1, 2, 0, 1, 0, 1, 0, 2, 2, 2, 0, 0, 0, 1, 2, 0, 2, 0, 1, 1, 2, 1, 0, 1, 0, 2, 1, 0, 2, 2, 1, 0, 1, 0, 2, 0, 1, 2, 1, 0, 0, 0, 1, 1, 2, 2, 2, 1, 1, 2, 0, 0, 0, 2, 2, 1, 0, 2, 2, 0, 2, 2, 1, 1, 0, 1, 1, 2, 2, 2, 2, 2, 2, 0, 1, 1, 0, 0, 0, 0, 2, 1, 2, 1, 1, 2, 1, 0, 0, 0, 0, 1, 2, 0, 2, 0, 2, 1, 1, 2, 0, 2, 2, 1, 2, 2, 1, 2, 2, 1, 1, 2, 2, 2, 1, 1, 1, 2, 2, 0, 0, 1, 0, 2, 1, 2, 2, 0, 0, 2, 0, 1, 1, 2, 2, 0, 1, 2, 2, 2, 0, 1, 1, 0, 0, 0, 2, 2, 0, 2, 1, 2, 2, 1, 1, 1, 1, 2, 2, 2, 1, 2, 2, 1, 2, 0, 1, 1, 0, 1, 0, 2, 2, 0, 0, 0, 0, 2, 0, 2, 1, 2, 2, 2, 1, 0, 1, 0, 2, 0, 0, 0, 1, 0, 0, 2, 2, 0, 1, 0, 1, 2, 1, 2, 0, 1, 1, 1, 2, 0, 2, 0, 2, 2, 0, 1, 1, 1, 1, 0, 2, 1, 2, 1, 2, 1, 0, 0, 2, 0, 2, 2, 1, 0, 0, 0, 0, 2, 0, 1, 2, 2, 1, 2, 0, 2, 0, 2, 0, 1, 0, 1, 2, 1, 1, 0, 0, 1, 2, 1, 1, 0, 0, 1, 0, 2, 2, 1, 0, 1, 2, 1, 2, 0, 0, 0, 1, 0, 2, 2, 1, 0]\n"
     ]
    }
   ],
   "source": [
    "from sklearn.cluster import KMeans\n",
    "\n",
    "model = KMeans(n_clusters=3, random_state=1)\n",
    "preds = model.fit_predict(matrix.toarray())\n",
    "print (list(preds))"
   ]
  },
  {
   "cell_type": "code",
   "execution_count": 17,
   "metadata": {
    "colab": {
     "base_uri": "https://localhost:8080/"
    },
    "id": "27Awrt0PujOx",
    "outputId": "4110c2a1-4dd4-4228-c01b-ce283b668f1a"
   },
   "outputs": [
    {
     "name": "stdout",
     "output_type": "stream",
     "text": [
      "[0, 0, 1, 2, 1, 0, 0, 0, 2, 0, 1, 0, 1, 0, 1, 0, 0, 2, 0, 1, 1, 1, 0, 0, 0, 2, 2, 2, 2, 0, 1, 2, 0, 1, 0, 1, 0, 1, 1, 0, 1, 1, 0, 2, 1, 1, 1, 1, 2, 1, 0, 0, 2, 1, 1, 2, 1, 2, 2, 0, 2, 0, 0, 1, 1, 0, 1, 0, 1, 1, 0, 2, 0, 0, 2, 2, 0, 1, 2, 0, 0, 0, 2, 1, 1, 0, 0, 0, 0, 2, 2, 1, 2, 1, 0, 0, 2, 2, 2, 2, 0, 1, 0, 1, 0, 1, 2, 1, 1, 0, 0, 2, 1, 0, 2, 2, 0, 2, 1, 1, 0, 2, 0, 2, 1, 2, 1, 2, 2, 0, 2, 2, 1, 0, 0, 1, 2, 2, 0, 0, 0, 2, 0, 2, 2, 2, 2, 1, 2, 2, 2, 1, 0, 1, 1, 0, 0, 1, 1, 2, 2, 2, 1, 0, 1, 0, 2, 1, 2, 1, 1, 1, 2, 2, 1, 1, 2, 1, 2, 0, 1, 2, 1, 1, 2, 0, 0, 1, 2, 1, 0, 2, 0, 2, 2, 0, 1, 1, 0, 0, 0, 0, 0, 2, 2, 2, 2, 1, 0, 1, 1, 0, 1, 2, 0, 0, 1, 2, 1, 1, 2, 2, 1, 1, 0, 0, 2, 1, 1, 1, 0, 0, 2, 0, 2, 2, 1, 1, 2, 2, 1, 2, 2, 2, 2, 0, 2, 0, 1, 2, 1, 2, 1, 2, 0, 2, 1, 0, 1, 1, 2, 0, 1, 2, 0, 1, 0, 0, 0, 2, 0, 0, 0, 2, 0, 1, 2, 2, 1, 2, 2, 2, 1, 1, 2, 2, 2, 0, 1, 1, 0, 1, 2, 0, 1, 2, 0, 1, 2, 0, 1, 2, 2, 2, 2, 2, 2, 1, 1, 1, 2, 1, 1, 1, 1, 1, 1, 2, 2, 1, 0, 0, 2, 0, 2, 2, 2, 2, 0, 1, 1, 2, 2, 1, 0, 0, 0, 0, 2, 2, 0, 1, 1, 0, 2, 1, 2, 0, 2, 2, 0, 0, 0, 2, 2, 2, 1, 0, 1, 1, 2, 1, 0, 2, 2, 2, 0, 1, 0, 0, 1, 1, 2, 1, 0, 2, 2, 1, 2, 0, 2, 2, 0, 1, 0, 2, 0, 2, 2, 1, 0, 2, 0, 1, 0, 0, 1, 0, 0, 1, 1, 2, 0, 2, 1, 0, 1, 2, 2, 0, 1, 0, 2, 0, 1, 2, 0, 0, 2, 0, 0, 2, 2, 1, 1, 0, 1, 2, 1, 1, 2, 0, 1, 0, 1, 1, 1, 1, 1, 2, 0, 0, 0, 2, 2, 1, 1, 0, 1, 1, 0, 0, 1, 0, 1, 1, 1, 0, 0, 0, 0, 1, 2, 1, 1, 2, 0, 1, 2, 2, 0, 0, 0, 2, 0, 2, 1, 2, 1, 0, 0, 1, 0, 1, 2, 0, 1, 2, 1, 2, 2, 0, 0, 0, 0, 2, 0, 1, 0, 1, 1, 0, 2, 1, 1, 1, 1, 0, 0, 0, 0, 2, 0, 1, 0, 1, 1, 1, 0, 0, 0, 0, 0, 0, 2, 2, 0, 0, 2, 1, 2, 0, 0, 1, 1, 2, 1, 2, 2, 2, 2, 2, 1, 1, 1, 0, 1, 1, 1, 1, 1, 0, 0, 2, 2, 0, 0, 2, 1, 2, 0, 1, 2, 0, 2, 0, 0, 2, 2, 1, 2, 0, 1, 0, 0, 2, 1, 2, 0, 0, 2, 0, 2, 2, 1, 1, 0, 2, 0, 0, 1, 0, 0, 2, 1, 0, 0, 1, 2, 2, 0, 2, 1, 2, 1, 2, 2, 2, 2, 2, 0, 2, 1, 0, 0, 0, 1, 0, 2, 0, 1, 2, 1, 2, 2, 2, 2, 1, 2, 1, 0, 2, 1, 1, 2, 2, 1, 0, 0, 0, 1, 0, 0, 0, 2, 1, 2, 0, 0, 2, 0, 2, 1, 0, 1, 1, 1, 1, 1, 0, 1, 1, 0, 2, 2, 1, 1, 2, 2, 2, 2, 1, 1, 1, 0, 1, 1, 1, 2, 1, 2, 0, 2, 0, 2, 0, 2, 1, 2, 0, 0, 0, 2, 1, 2, 0, 1, 1, 1, 1, 0, 2, 0, 2, 1, 1, 1, 1, 0, 1, 2, 0, 0, 2, 1, 2, 0, 2, 2, 1, 0, 1, 0, 0, 1, 2, 1, 0, 0, 0, 2, 1, 2, 1, 0, 0, 1, 0, 1, 1, 2, 1, 2, 1, 0, 1, 0, 1, 2, 1, 1, 1, 2, 1, 2, 1, 0, 1, 1, 0, 2, 1, 2, 0, 1, 2, 1, 0, 1, 2, 0, 0, 0, 2, 2, 2, 0, 2, 0, 1, 2, 2, 0, 1, 1, 2, 2, 2, 2, 1, 2, 1, 1, 2, 2, 1, 0, 0, 1, 2, 2, 1, 0, 2, 2, 2, 0, 0, 1, 0, 1, 1, 0, 0, 0, 1, 2, 1, 2, 2, 2, 2, 2, 0, 2, 0, 1, 1, 1, 1, 0, 0, 0, 0, 0, 0, 0, 1, 1, 0, 2, 2, 0, 1, 0, 1, 1, 1, 0, 1, 1, 1, 0, 0, 0, 2, 2, 1, 0, 0, 0, 0, 2, 0, 1, 1, 1, 2, 0, 2, 0, 0, 0, 1, 2, 0, 2, 0, 0, 0, 0, 0, 2, 1, 1, 2, 2, 0, 2, 1, 1, 2, 1, 0, 1, 2, 0, 0, 0, 2, 2, 0, 2, 0, 0, 2, 1, 0, 2, 2, 1, 0, 1, 0, 1, 1, 0, 0, 0, 0, 2, 1, 0, 0, 0, 2, 2, 1, 2, 2, 1, 2, 1, 2, 0, 0, 1, 2, 1, 0, 2, 2, 2, 1, 0, 1, 0, 0, 2, 2, 2, 2, 2, 2, 1, 2, 1, 2, 0, 1, 2, 1, 2, 2, 1, 0, 1, 1, 2, 1, 1, 2, 1, 2, 2, 0, 2, 2, 0, 2, 2, 1, 2, 2, 0, 0, 2, 2, 0, 2, 1, 2, 1, 0, 2, 0, 2, 0, 1, 1, 1, 2, 1, 2, 1, 1, 2, 0, 1, 0, 0, 1, 2, 0, 2, 0, 2, 2, 0, 1, 1, 0, 0, 0, 0, 2, 2, 0, 2, 1, 2, 0, 1, 0, 1, 1, 0, 0, 0, 2, 1, 1, 1, 2, 2, 2, 0, 2, 2, 1, 0, 2, 0, 0, 0, 1, 2, 2, 0, 1, 2, 1, 1, 2, 2, 0, 2, 0, 0, 0, 2, 1, 2, 1, 1, 1, 1, 1, 1, 1, 0, 0, 2, 2, 0, 1, 1, 2, 2, 0, 1, 2, 0, 2, 0, 1, 0, 0, 2, 0, 2, 1, 0, 1, 2, 1, 2, 1, 2, 2, 2, 2, 2, 1, 0, 0, 0, 2, 0, 1, 1, 1, 0, 0, 2, 1, 1, 1, 1, 2, 2, 2, 0, 1, 2, 2, 1, 2, 0, 2, 1, 0, 0, 2, 0, 1, 1, 0, 2, 1, 2, 1, 1, 2, 0, 1, 0, 2, 0, 2, 0, 0, 2, 1, 0, 2, 2, 2, 2, 0, 2, 0, 2, 1, 1, 2, 0, 0, 1, 1, 1, 0, 0, 1, 1, 1, 2, 0, 0, 0, 1, 0, 0, 0, 0, 0, 2, 2, 2, 1, 1, 0, 1, 0, 1, 1, 2, 0, 2, 1, 2, 1, 0, 0, 0, 1, 2, 1, 0, 1, 2, 1, 0, 1, 0, 0, 2, 1, 1, 1, 0, 2, 2, 1, 0, 1, 1, 0, 1, 0, 2, 2, 1, 1, 2, 0, 0, 2, 0, 2, 2, 1, 1, 1, 2, 0, 1, 2, 1, 1, 2, 0, 2, 0, 1, 1, 1, 2, 0, 1, 2, 2, 0, 1, 2, 0, 2, 1, 0, 0, 2, 1, 2, 2, 0, 1, 0, 0, 0, 1, 0, 1, 2, 2, 2, 2, 1, 0, 2, 0, 2, 0, 0, 2, 0, 1, 2, 2, 1, 0, 1, 1, 0, 1, 1, 1, 2, 2, 2, 0, 2, 0, 2, 1, 2, 2, 1, 0, 1, 0, 0, 2, 2, 1, 2, 2, 1, 0, 1, 2, 2, 1, 2, 2, 2, 2, 0, 1, 2, 1, 1, 2, 1, 2, 0, 1, 1, 2, 2, 2, 1, 1, 0, 0, 2, 0, 2, 1, 1, 2, 1, 1, 0, 2, 2, 0, 1, 2, 2, 2, 0, 2, 2, 1, 2, 2, 0, 0, 1, 2, 0, 2, 1, 1, 1, 1, 1, 1, 2, 0, 2, 1, 1, 0, 2, 2, 1, 2, 1, 0, 0, 1, 1, 2, 0, 2, 2, 1, 0, 1, 2, 0, 0, 2, 0, 0, 0, 1, 0, 1, 1, 0, 0, 0, 1, 0, 1, 1, 0, 2, 0, 1, 1, 1, 1, 1, 1, 0, 0, 1, 1, 0, 2, 1, 1, 2, 0, 0, 2, 0, 1, 0, 0, 2, 2, 2, 2, 0, 0, 1, 0, 1, 2, 0, 0, 1, 2, 1, 0, 1, 1, 2, 1, 2, 0, 0, 2, 1, 0, 1, 1, 1, 1, 1, 1, 1, 1, 2, 1, 2, 1, 2, 1, 0, 0, 2, 2, 2, 1, 0, 2, 0, 2, 1, 1, 2, 1, 2, 1, 2, 0, 1, 2, 1, 0, 1, 2, 1, 2, 0, 2, 1, 0, 1, 2, 2, 2, 1, 1, 0, 0, 0, 1, 1, 0, 2, 2, 2, 0, 0, 1, 2, 0, 0, 2, 0, 0, 1, 1, 2, 1, 1, 0, 2, 1, 0, 0, 0, 2, 1, 1, 2, 2, 2, 2, 0, 1, 0, 1, 1, 0, 1, 2, 2, 2, 2, 1, 0, 2, 0, 2, 2, 1, 1, 0, 2, 0, 0, 1, 0, 0, 1, 0, 0, 1, 1, 0, 2, 0, 1, 1, 1, 0, 0, 2, 2, 1, 2, 0, 1, 0, 0, 2, 2, 1, 2, 1, 1, 0, 0, 2, 1, 0, 0, 1, 2, 1, 1, 2, 2, 2, 0, 0, 2, 0, 1, 2, 0, 1, 1, 1, 1, 0, 2, 0, 1, 0, 0, 1, 0, 2, 1, 1, 2, 1, 2, 0, 0, 2, 2, 2, 2, 0, 2, 0, 1, 1, 0, 0, 1, 2, 1, 2, 0, 2, 2, 2, 1, 2, 2, 2, 0, 2, 1, 2, 1, 0, 1, 0, 2, 1, 1, 1, 0, 2, 0, 2, 0, 0, 2, 1, 1, 1, 1, 2, 0, 1, 0, 1, 0, 1, 2, 2, 0, 2, 0, 0, 1, 2, 2, 2, 2, 2, 2, 1, 1, 0, 1, 0, 2, 0, 2, 0, 2, 1, 2, 1, 0, 1, 1, 2, 2, 1, 0, 1, 1, 2, 2, 1, 2, 0, 0, 1, 2, 1, 0, 1, 0, 2, 2, 2, 1, 2, 0, 0, 1, 2]\n"
     ]
    }
   ],
   "source": [
    "print (list(new_dataset.target))"
   ]
  },
  {
   "cell_type": "code",
   "execution_count": 18,
   "metadata": {
    "colab": {
     "base_uri": "https://localhost:8080/"
    },
    "id": "2tfuoMbTujO0",
    "outputId": "fd50b6c8-8c3b-4262-be7d-47e644b88a9a"
   },
   "outputs": [
    {
     "name": "stdout",
     "output_type": "stream",
     "text": [
      "0.05289814293753517\n"
     ]
    }
   ],
   "source": [
    "# We have mixed up \"0\" and \"2\" clusters\n",
    "# Let's change it!\n",
    "\n",
    "mapping = {2 : 0, 1: 1, 0: 2}\n",
    "mapped_preds = [mapping[pred] for pred in preds]\n",
    "print (float(sum(mapped_preds != new_dataset.target)) / len(new_dataset.target))"
   ]
  },
  {
   "cell_type": "code",
   "execution_count": 19,
   "metadata": {
    "colab": {
     "base_uri": "https://localhost:8080/"
    },
    "id": "-fRXedQIujO2",
    "outputId": "1d7d8113-483f-4419-c557-aca9b0972ed4"
   },
   "outputs": [
    {
     "name": "stdout",
     "output_type": "stream",
     "text": [
      "0.9859313182465581\n"
     ]
    }
   ],
   "source": [
    "# have right answers in ~95 % examples!\n",
    "# check the result with 'professional' classifier:\n",
    "\n",
    "from sklearn.linear_model import LogisticRegression\n",
    "from sklearn.model_selection import cross_val_score\n",
    "clf = LogisticRegression()\n",
    "print (cross_val_score(clf, matrix, new_dataset.target).mean())\n"
   ]
  },
  {
   "cell_type": "markdown",
   "metadata": {
    "id": "qlE-SzwVujO5"
   },
   "source": [
    "## Let's have 3 closer topics"
   ]
  },
  {
   "cell_type": "code",
   "execution_count": 20,
   "metadata": {
    "id": "olPILi_vujO6"
   },
   "outputs": [],
   "source": [
    "dataset = fetch_20newsgroups(\n",
    "    subset='train', \n",
    "    categories=['comp.sys.mac.hardware', 'comp.os.ms-windows.misc', 'comp.graphics'])"
   ]
  },
  {
   "cell_type": "code",
   "execution_count": 21,
   "metadata": {
    "colab": {
     "base_uri": "https://localhost:8080/"
    },
    "id": "lJ3ZCrLqujO8",
    "outputId": "30681406-92b2-4561-ef37-835f69f4f4ee"
   },
   "outputs": [
    {
     "name": "stdout",
     "output_type": "stream",
     "text": [
      "[2 1 0 ... 2 0 2]\n",
      "[2 1 1 ... 2 0 2]\n"
     ]
    }
   ],
   "source": [
    "matrix = vectorizer.fit_transform(dataset.data)\n",
    "model = KMeans(n_clusters=3, random_state=42)\n",
    "preds = model.fit_predict(matrix.toarray())\n",
    "print (preds)\n",
    "print (dataset.target)"
   ]
  },
  {
   "cell_type": "code",
   "execution_count": 22,
   "metadata": {
    "colab": {
     "base_uri": "https://localhost:8080/"
    },
    "id": "KUUBTugZujO_",
    "outputId": "49171a85-33cf-4200-a2b8-494e9f027a1b"
   },
   "outputs": [
    {
     "name": "stdout",
     "output_type": "stream",
     "text": [
      "0.22304620650313747\n"
     ]
    }
   ],
   "source": [
    "#mapping = {2 : 0, 1: 1, 0: 2}\n",
    "#mapped_preds = [mapping[pred] for pred in preds]\n",
    "print (float(sum(preds != dataset.target)) / len(dataset.target))"
   ]
  },
  {
   "cell_type": "code",
   "execution_count": 23,
   "metadata": {
    "colab": {
     "base_uri": "https://localhost:8080/"
    },
    "id": "qCof72K6ujPB",
    "outputId": "b91c54a8-2ca0-4c12-9c9f-d5efcd981c79"
   },
   "outputs": [
    {
     "name": "stdout",
     "output_type": "stream",
     "text": [
      "0.9264143264143264\n"
     ]
    }
   ],
   "source": [
    "# performance came down because the topics are very close to each other\n",
    "\n",
    "clf = LogisticRegression()\n",
    "print (cross_val_score(clf, matrix, dataset.target).mean())"
   ]
  }
 ],
 "metadata": {
  "colab": {
   "collapsed_sections": [],
   "name": "Clustering Algs.ipynb",
   "provenance": []
  },
  "kernelspec": {
   "display_name": "Python 3",
   "language": "python",
   "name": "python3"
  },
  "language_info": {
   "codemirror_mode": {
    "name": "ipython",
    "version": 3
   },
   "file_extension": ".py",
   "mimetype": "text/x-python",
   "name": "python",
   "nbconvert_exporter": "python",
   "pygments_lexer": "ipython3",
   "version": "3.7.6"
  }
 },
 "nbformat": 4,
 "nbformat_minor": 4
}
