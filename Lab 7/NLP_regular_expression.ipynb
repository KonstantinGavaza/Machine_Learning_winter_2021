{
 "cells": [
  {
   "cell_type": "markdown",
   "metadata": {
    "id": "UQsqZYEE0Fm5"
   },
   "source": [
    "# Regular expression\n",
    "***\n",
    "\n",
    "Liks:\n",
    "- https://docs.python.org/3/library/re.html\n",
    "- https://www.analyticsvidhya.com/blog/2015/06/regular-expression-python/"
   ]
  },
  {
   "cell_type": "markdown",
   "metadata": {
    "id": "l6pvBCPx0Fm-"
   },
   "source": [
    "### Purpose of use:\n",
    "- to determine the required format, for example, a phone number or email address;\n",
    "- for splitting strings into substrings;\n",
    "- for searching, replacing and extracting symbols;\n",
    "- to quickly perform non-trivial operations.\n",
    "\n",
    "### Module re.\n",
    "This module provides regular expression matching operations.\n",
    "\n",
    "The most common uses of regular expressions are:\n",
    "\n",
    "- Search a string (search and match)\n",
    "- Finding a string (findall)\n",
    "- Break string into a sub strings (split)\n",
    "- Replace part of a string (sub)"
   ]
  },
  {
   "cell_type": "code",
   "execution_count": 1,
   "metadata": {
    "id": "uS7q6V8c0Fm_"
   },
   "outputs": [],
   "source": [
    "import re"
   ]
  },
  {
   "cell_type": "markdown",
   "metadata": {
    "id": "WiQMP5xB0FnA"
   },
   "source": [
    "# Regular expression using a constant pattern"
   ]
  },
  {
   "cell_type": "code",
   "execution_count": 2,
   "metadata": {
    "executionInfo": {
     "elapsed": 731,
     "status": "ok",
     "timestamp": 1612524766559,
     "user": {
      "displayName": "Oksana Severiukhina",
      "photoUrl": "https://lh5.googleusercontent.com/-NTEuOixhUTQ/AAAAAAAAAAI/AAAAAAAAaIE/27y5Mt_iaSM/s64/photo.jpg",
      "userId": "18223203539895546291"
     },
     "user_tz": -180
    },
    "id": "2VpvGDgA9wdN"
   },
   "outputs": [],
   "source": [
    "text = 'SPb is known as the \"Cultural Capital of Russia\" and the \"Northern Capital\"'"
   ]
  },
  {
   "cell_type": "markdown",
   "metadata": {
    "id": "cj_Mg9T40FnA"
   },
   "source": [
    "### 1) re.match(pattern, string)\n",
    "\n",
    "This method finds match if it occurs at start of the string."
   ]
  },
  {
   "cell_type": "code",
   "execution_count": 3,
   "metadata": {
    "colab": {
     "base_uri": "https://localhost:8080/"
    },
    "executionInfo": {
     "elapsed": 831,
     "status": "ok",
     "timestamp": 1612524776145,
     "user": {
      "displayName": "Oksana Severiukhina",
      "photoUrl": "https://lh5.googleusercontent.com/-NTEuOixhUTQ/AAAAAAAAAAI/AAAAAAAAaIE/27y5Mt_iaSM/s64/photo.jpg",
      "userId": "18223203539895546291"
     },
     "user_tz": -180
    },
    "id": "VUHTJO120FnB",
    "outputId": "b50da319-7d02-48d7-8961-691b63ccf479"
   },
   "outputs": [
    {
     "name": "stdout",
     "output_type": "stream",
     "text": [
      "\n",
      " <re.Match object; span=(0, 3), match='SPb'>\n",
      "\n",
      "Matching string : SPb\n",
      "\n",
      "Starting position of the match : 0\n",
      "Ending position of the match : 3\n"
     ]
    }
   ],
   "source": [
    "# matching SPb in the given sentence\n",
    "result = re.match(r\"SPb\", text)\n",
    "print(\"\\n\", result)\n",
    "print(\"\\nMatching string :\", result.group(0))\n",
    "print(\"\\nStarting position of the match :\", result.start())\n",
    "print(\"Ending position of the match :\", result.end())"
   ]
  },
  {
   "cell_type": "code",
   "execution_count": 4,
   "metadata": {
    "colab": {
     "base_uri": "https://localhost:8080/"
    },
    "executionInfo": {
     "elapsed": 592,
     "status": "ok",
     "timestamp": 1612524820110,
     "user": {
      "displayName": "Oksana Severiukhina",
      "photoUrl": "https://lh5.googleusercontent.com/-NTEuOixhUTQ/AAAAAAAAAAI/AAAAAAAAaIE/27y5Mt_iaSM/s64/photo.jpg",
      "userId": "18223203539895546291"
     },
     "user_tz": -180
    },
    "id": "A5ZPZbga0FnC",
    "outputId": "6593a9ec-f3a2-4be7-af64-547fdb2b6d9f"
   },
   "outputs": [
    {
     "name": "stdout",
     "output_type": "stream",
     "text": [
      "\n",
      "Result : None\n"
     ]
    }
   ],
   "source": [
    "# Let’s now find ‘Russia’ in the given string.\n",
    "# Here we see that string is not starting with ‘Russia’ so it should return no match. Let’s see what we get:\n",
    "\n",
    "result = re.match(r\"Russia\", text)\n",
    "print(\"\\nResult :\", result)"
   ]
  },
  {
   "cell_type": "markdown",
   "metadata": {
    "id": "o7ANsJPx0FnD"
   },
   "source": [
    "### 2) re.search(pattern, string)\n",
    "It is similar to match() but it doesn’t restrict us to find matches at the beginning of the string only. Unlike previous method, here searching for pattern ‘Russia’ will return a match. However, it only returns the first occurrence of the search pattern."
   ]
  },
  {
   "cell_type": "code",
   "execution_count": 5,
   "metadata": {
    "id": "-fJLYPt90FnD",
    "outputId": "c353375f-4c81-4ee2-ea65-c67fb9be5cfd"
   },
   "outputs": [
    {
     "name": "stdout",
     "output_type": "stream",
     "text": [
      "Russia\n"
     ]
    }
   ],
   "source": [
    "result = re.search(r\"Russia\", text)\n",
    "print(result.group(0))"
   ]
  },
  {
   "cell_type": "code",
   "execution_count": 6,
   "metadata": {
    "id": "xNSI0mk-0FnD",
    "outputId": "c4d626bd-332b-43ab-dfdb-22771c2c56d6"
   },
   "outputs": [
    {
     "data": {
      "text/plain": [
       "<re.Match object; span=(41, 47), match='Russia'>"
      ]
     },
     "execution_count": 6,
     "metadata": {},
     "output_type": "execute_result"
    }
   ],
   "source": [
    "result"
   ]
  },
  {
   "cell_type": "markdown",
   "metadata": {
    "id": "i-VIwqEj0FnD"
   },
   "source": [
    "### 3) re.findall (pattern, string)\n",
    "It helps to get a list of all matching patterns. It has no constraints of searching from start or end. If we will use method findall to search ‘AV’ in given string it will return both occurrence of AV. While searching a string, I would recommend you to use re.findall() always, it can work like re.search() and re.match() both."
   ]
  },
  {
   "cell_type": "markdown",
   "metadata": {
    "id": "KWqzDjfT0FnE"
   },
   "source": [
    "### 4) re.split(pattern, string, [maxsplit=0])\n",
    "This methods helps to split string by the occurrences of given pattern."
   ]
  },
  {
   "cell_type": "code",
   "execution_count": 7,
   "metadata": {
    "id": "t_UgUGlZ0FnE",
    "outputId": "4835015d-c227-4889-c298-a0fb2358c372"
   },
   "outputs": [
    {
     "data": {
      "text/plain": [
       "['Cultural Capital ', ' Russia']"
      ]
     },
     "execution_count": 7,
     "metadata": {},
     "output_type": "execute_result"
    }
   ],
   "source": [
    "result = re.split(r\"of\", \"Cultural Capital of Russia\")\n",
    "result"
   ]
  },
  {
   "cell_type": "markdown",
   "metadata": {
    "id": "_ncnq20b0FnE"
   },
   "source": [
    "Method split() has argument “maxsplit“. It has default value of zero. In this case it does the maximum splits that can be done, but if we give value to maxsplit, it will split the string. Let’s look at the example below:"
   ]
  },
  {
   "cell_type": "code",
   "execution_count": 8,
   "metadata": {
    "id": "eKx-3H_P0FnE",
    "outputId": "539c943a-992d-4567-c2fa-fbbe89b839d9"
   },
   "outputs": [
    {
     "data": {
      "text/plain": [
       "['Cu', 'tura', ' Capita', ' of Russia']"
      ]
     },
     "execution_count": 8,
     "metadata": {},
     "output_type": "execute_result"
    }
   ],
   "source": [
    "result = re.split(r\"l\", \"Cultural Capital of Russia\")\n",
    "result"
   ]
  },
  {
   "cell_type": "code",
   "execution_count": 9,
   "metadata": {
    "id": "hss62XqA0FnF",
    "outputId": "9be4c7f2-28aa-49f2-88cf-97d89de9a70a"
   },
   "outputs": [
    {
     "data": {
      "text/plain": [
       "['Cu', 'tural Capital of Russia']"
      ]
     },
     "execution_count": 9,
     "metadata": {},
     "output_type": "execute_result"
    }
   ],
   "source": [
    "result = re.split(r\"l\", \"Cultural Capital of Russia\", maxsplit=1)\n",
    "result"
   ]
  },
  {
   "cell_type": "markdown",
   "metadata": {
    "id": "2w9I1GDo0FnF"
   },
   "source": [
    "### 5) re.sub(pattern, repl, string)\n",
    "It helps to search a pattern and replace with a new sub string. If the pattern is not found, string is returned unchanged."
   ]
  },
  {
   "cell_type": "code",
   "execution_count": null,
   "metadata": {
    "id": "wZJ0YWhd0FnF",
    "outputId": "38f035a2-46e8-4ea5-f969-d4b30f135269"
   },
   "outputs": [],
   "source": [
    "result = re.sub(r\"Northern\", \"Southern\", text)\n",
    "print(text)\n",
    "print(result)"
   ]
  },
  {
   "cell_type": "markdown",
   "metadata": {
    "id": "DcTot_460FnF"
   },
   "source": [
    "### 6) re.compile(pattern, repl, string)\n",
    "\n",
    "We can combine a regular expression pattern into pattern objects, which can be used for pattern matching. It also helps to search a pattern again without rewriting it."
   ]
  },
  {
   "cell_type": "code",
   "execution_count": null,
   "metadata": {
    "id": "nTJqxC2y0FnF",
    "outputId": "364938a8-93aa-4d56-cf09-c84e45f27674"
   },
   "outputs": [],
   "source": [
    "pattern = re.compile(\"Capital\")\n",
    "result = pattern.findall(text)\n",
    "result"
   ]
  },
  {
   "cell_type": "markdown",
   "metadata": {
    "id": "PI7AxkIF0FnG"
   },
   "source": [
    "# Regular expression with non constant pattern\n",
    "\n",
    "Here are the most commonly used operators that helps to generate an expression to represent required characters in a string or file. It is commonly used in web scrapping and  text mining to extract required information."
   ]
  },
  {
   "cell_type": "markdown",
   "metadata": {
    "id": "AUoEVwMl0FnG"
   },
   "source": [
    "![image](re_pattrern.png)"
   ]
  },
  {
   "cell_type": "markdown",
   "metadata": {
    "id": "sKHb6BQb0FnG"
   },
   "source": [
    "### Examples"
   ]
  },
  {
   "cell_type": "markdown",
   "metadata": {
    "id": "czXE7Tj60FnG"
   },
   "source": [
    "1. Extract each word"
   ]
  },
  {
   "cell_type": "code",
   "execution_count": 10,
   "metadata": {
    "id": "HtIBstGg0FnG",
    "outputId": "c2f2eea1-4129-477b-8d48-818f88f079a2"
   },
   "outputs": [
    {
     "data": {
      "text/plain": [
       "['SPb',\n",
       " 'is',\n",
       " 'known',\n",
       " 'as',\n",
       " 'the',\n",
       " 'Cultural',\n",
       " 'Capital',\n",
       " 'of',\n",
       " 'Russia',\n",
       " 'and',\n",
       " 'the',\n",
       " 'Northern',\n",
       " 'Capital']"
      ]
     },
     "execution_count": 10,
     "metadata": {},
     "output_type": "execute_result"
    }
   ],
   "source": [
    "text = 'SPb is known as the \"Cultural Capital of Russia\" and the \"Northern Capital\"'\n",
    "re.findall(r\"\\w+\", text)"
   ]
  },
  {
   "cell_type": "markdown",
   "metadata": {
    "id": "h79PBadj0FnG"
   },
   "source": [
    "2. Return the first two character of each word"
   ]
  },
  {
   "cell_type": "code",
   "execution_count": 12,
   "metadata": {
    "id": "nMq9oTur0FnH",
    "outputId": "b9ed6625-cd1f-448d-bc76-8128908894e6"
   },
   "outputs": [
    {
     "data": {
      "text/plain": [
       "['SP', 'is', 'kn', 'as', 'th', 'Cu', 'Ca', 'of', 'Ru', 'an', 'th', 'No', 'Ca']"
      ]
     },
     "execution_count": 12,
     "metadata": {},
     "output_type": "execute_result"
    }
   ],
   "source": [
    "# re.findall(r'\\w.', text)\n",
    "re.findall(r\"\\b\\w.\", text)"
   ]
  },
  {
   "cell_type": "markdown",
   "metadata": {
    "id": "v8lKmXvS0FnH"
   },
   "source": [
    "3. Return the domain type of given email-ids"
   ]
  },
  {
   "cell_type": "code",
   "execution_count": 13,
   "metadata": {
    "id": "060sTFPk0FnH",
    "outputId": "3e791726-7ad9-4319-ea35-ab5f92fda5c2"
   },
   "outputs": [
    {
     "data": {
      "text/plain": [
       "['@gmail.com', '@test.in', '@analyticsvidhya.com', '@rest.biz']"
      ]
     },
     "execution_count": 13,
     "metadata": {},
     "output_type": "execute_result"
    }
   ],
   "source": [
    "emails = \"abc.test@gmail.com, xyz@test.in, test.first@analyticsvidhya.com, first.test@rest.biz\"\n",
    "re.findall(r\"\\@\\w+.\\w+\", emails)"
   ]
  },
  {
   "cell_type": "code",
   "execution_count": 14,
   "metadata": {
    "id": "3VJ4BLYj0FnH",
    "outputId": "ddc6872a-ce99-4b1f-ce50-e305eaa4f980"
   },
   "outputs": [
    {
     "data": {
      "text/plain": [
       "['com', 'in', 'com', 'biz']"
      ]
     },
     "execution_count": 14,
     "metadata": {},
     "output_type": "execute_result"
    }
   ],
   "source": [
    "re.findall(r\"\\@\\w+.(\\w+)\", emails)"
   ]
  },
  {
   "cell_type": "markdown",
   "metadata": {
    "id": "Xkn-H7oF0FnH"
   },
   "source": [
    "4. Return date from given string"
   ]
  },
  {
   "cell_type": "code",
   "execution_count": 15,
   "metadata": {
    "id": "C471I-MV0FnI",
    "outputId": "cccd23e7-d7c0-487d-8d11-32e838d88d0b"
   },
   "outputs": [
    {
     "data": {
      "text/plain": [
       "['12-05-2007', '11-11-2011', '12-01-2009']"
      ]
     },
     "execution_count": 15,
     "metadata": {},
     "output_type": "execute_result"
    }
   ],
   "source": [
    "dates = \"Amit 34-3456 12-05-2007, XYZ 56-4532 11-11-2011, ABC 67-8945 12-01-2009\"\n",
    "re.findall(r\"\\d{2}-\\d{2}-\\d{4}\", dates)"
   ]
  },
  {
   "cell_type": "markdown",
   "metadata": {
    "id": "AlU6j9Vl0FnI"
   },
   "source": [
    "5.  Return all words of a string those starts with vowel"
   ]
  },
  {
   "cell_type": "code",
   "execution_count": 16,
   "metadata": {
    "id": "eqUMmh1o0FnI",
    "outputId": "3caad036-adc9-4ae7-f87c-8dac2d79031e"
   },
   "outputs": [
    {
     "data": {
      "text/plain": [
       "['is', 'as', 'of', 'and']"
      ]
     },
     "execution_count": 16,
     "metadata": {},
     "output_type": "execute_result"
    }
   ],
   "source": [
    "re.findall(r\"\\b[aeiouAEIOU]\\w+\", text)"
   ]
  },
  {
   "cell_type": "code",
   "execution_count": 17,
   "metadata": {
    "id": "k9mjKqF70FnI",
    "outputId": "2d26e2b3-2686-4b35-9ac2-35d592b0ab4c"
   },
   "outputs": [
    {
     "data": {
      "text/plain": [
       "['SPb',\n",
       " 'known',\n",
       " 'the',\n",
       " 'Cultural',\n",
       " 'Capital',\n",
       " 'Russia',\n",
       " 'the',\n",
       " 'Northern',\n",
       " 'Capital']"
      ]
     },
     "execution_count": 17,
     "metadata": {},
     "output_type": "execute_result"
    }
   ],
   "source": [
    "re.findall(r\"\\b[^aeiouAEIOU ]\\w+\", text)"
   ]
  },
  {
   "cell_type": "markdown",
   "metadata": {
    "id": "KFUQTPDh0FnI"
   },
   "source": [
    "6. Validate a phone number (phone number must be of 10 digits and starts with 8 or 9) "
   ]
  },
  {
   "cell_type": "code",
   "execution_count": 18,
   "metadata": {
    "id": "1IZjB4jh0FnI",
    "outputId": "6f8845d7-cccd-46cf-9384-f9a3595d93b0"
   },
   "outputs": [
    {
     "name": "stdout",
     "output_type": "stream",
     "text": [
      "8999999999\n"
     ]
    }
   ],
   "source": [
    "numbers = [\"8999999999\", \"999999-999\", \"99999x9999\"]\n",
    "\n",
    "for number in numbers:\n",
    "    if (re.match(r\"8|9[0-9]{9}\", number)) and len(number) == 10:\n",
    "        print(number)"
   ]
  },
  {
   "cell_type": "markdown",
   "metadata": {
    "id": "2pTXrtWx0FnJ"
   },
   "source": [
    "7. Split a string with multiple delimiters"
   ]
  },
  {
   "cell_type": "code",
   "execution_count": null,
   "metadata": {
    "id": "w13p4Gez0FnJ",
    "outputId": "5a6bdd41-9564-4252-8281-e9d45f252c81"
   },
   "outputs": [],
   "source": [
    "line = \"asdf fjdk;afed,fjek,asdf,foo\"  # String has multiple delimiters (\";\",\",\",\" \").\n",
    "re.split(r\"[ ;,]\", line)"
   ]
  },
  {
   "cell_type": "code",
   "execution_count": null,
   "metadata": {
    "id": "mNnuRzNu0FnJ",
    "outputId": "8c313cc9-4c1d-47cf-b1b6-def3167ec393"
   },
   "outputs": [],
   "source": [
    "re.sub(r\"[;,]\", \" \", line)"
   ]
  }
 ],
 "metadata": {
  "colab": {
   "collapsed_sections": [],
   "name": "1_regular_expression.ipynb",
   "provenance": []
  },
  "kernelspec": {
   "display_name": "Python 3",
   "language": "python",
   "name": "python3"
  },
  "language_info": {
   "codemirror_mode": {
    "name": "ipython",
    "version": 3
   },
   "file_extension": ".py",
   "mimetype": "text/x-python",
   "name": "python",
   "nbconvert_exporter": "python",
   "pygments_lexer": "ipython3",
   "version": "3.8.5"
  }
 },
 "nbformat": 4,
 "nbformat_minor": 4
}
